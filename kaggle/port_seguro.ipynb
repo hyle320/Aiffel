{
 "cells": [
  {
   "cell_type": "code",
   "execution_count": 1,
   "metadata": {
    "id": "erPJoS32u7-v"
   },
   "outputs": [],
   "source": [
    "import os\n",
    "# os.chdir(r'C:/Users/hakan/Jupyter Notebook/notebook/AIFarming/DataAnalysis/')\n",
    "# os.getcwd()\n"
   ]
  },
  {
   "cell_type": "code",
   "execution_count": 2,
   "metadata": {
    "id": "7DuNIKuBtz-f"
   },
   "outputs": [],
   "source": [
    "import pandas as pd\n",
    "import numpy as np\n",
    "\n",
    "data_path ='C:/Users/hakan/Jupyter Notebook/data/porto-seguro-safe-driver-prediction/'\n",
    "train = pd.read_csv(data_path+'train.csv',index_col='id')\n",
    "test = pd.read_csv(data_path+'test.csv',index_col='id')\n",
    "submission = pd.read_csv(data_path+'sample_submission.csv',index_col='id')"
   ]
  },
  {
   "cell_type": "code",
   "execution_count": 66,
   "metadata": {
    "id": "mxKubZxGxSnA"
   },
   "outputs": [],
   "source": [
    "def resumatable(df):\n",
    "    print(f'DataFrame Shape: {df.shape}')\n",
    "    summary = pd.DataFrame(df.dtypes, columns=['Dtype'])\n",
    "    summary['Missing'] = (df == -1).sum().values\n",
    "    summary['Unique'] = df.nunique().values\n",
    "    summary['Dtype'] = None\n",
    "    for col in df.columns:\n",
    "        if 'bin' in col or col =='target':\n",
    "            summary.loc[col,'Dtype'] = 'Binary'\n",
    "        elif 'cat' in col:\n",
    "            summary.loc[col,'Dtype'] = 'Categorical'\n",
    "        elif df[col].dtype == 'float64':\n",
    "            summary.loc[col,'Dtype'] = 'Continuous'\n",
    "        elif df[col].dtype == 'int64':\n",
    "            summary.loc[col,'Dtype'] = 'Ordinal'\n",
    "    return summary"
   ]
  },
  {
   "cell_type": "code",
   "execution_count": 4,
   "metadata": {
    "id": "saZDmxBu-6cs"
   },
   "outputs": [],
   "source": [
    "import seaborn as sns\n",
    "import matplotlib as mpl\n",
    "import matplotlib.pyplot as plt\n",
    "%matplotlib inline"
   ]
  },
  {
   "cell_type": "markdown",
   "metadata": {},
   "source": [
    "#feature engineering"
   ]
  },
  {
   "cell_type": "code",
   "execution_count": 5,
   "metadata": {
    "id": "2FcBMKlcrXg3"
   },
   "outputs": [],
   "source": [
    "import pandas as pd\n",
    "data_path ='C:/Users/hakan/Jupyter Notebook/data/porto-seguro-safe-driver-prediction/'\n",
    "train = pd.read_csv(data_path+'train.csv',index_col='id')\n",
    "test = pd.read_csv(data_path+'test.csv',index_col='id')\n",
    "submission = pd.read_csv(data_path+'sample_submission.csv',index_col='id')"
   ]
  },
  {
   "cell_type": "code",
   "execution_count": 6,
   "metadata": {
    "colab": {
     "base_uri": "https://localhost:8080/"
    },
    "executionInfo": {
     "elapsed": 939,
     "status": "ok",
     "timestamp": 1731858830432,
     "user": {
      "displayName": "하강혁",
      "userId": "02638335608103264015"
     },
     "user_tz": -540
    },
    "id": "5PozTVy_wDWd",
    "outputId": "5dc0f464-96e2-4915-9436-db953bd37e26"
   },
   "outputs": [],
   "source": [
    "all_data = pd.concat([train,test],ignore_index=True)\n",
    "all_data = all_data.drop('target',axis=1)"
   ]
  },
  {
   "cell_type": "code",
   "execution_count": 7,
   "metadata": {},
   "outputs": [
    {
     "data": {
      "text/plain": [
       "Index(['ps_ind_01', 'ps_ind_02_cat', 'ps_ind_03', 'ps_ind_04_cat',\n",
       "       'ps_ind_05_cat', 'ps_ind_06_bin', 'ps_ind_07_bin', 'ps_ind_08_bin',\n",
       "       'ps_ind_09_bin', 'ps_ind_10_bin', 'ps_ind_11_bin', 'ps_ind_12_bin',\n",
       "       'ps_ind_13_bin', 'ps_ind_14', 'ps_ind_15', 'ps_ind_16_bin',\n",
       "       'ps_ind_17_bin', 'ps_ind_18_bin', 'ps_reg_01', 'ps_reg_02', 'ps_reg_03',\n",
       "       'ps_car_01_cat', 'ps_car_02_cat', 'ps_car_03_cat', 'ps_car_04_cat',\n",
       "       'ps_car_05_cat', 'ps_car_06_cat', 'ps_car_07_cat', 'ps_car_08_cat',\n",
       "       'ps_car_09_cat', 'ps_car_10_cat', 'ps_car_11_cat', 'ps_car_11',\n",
       "       'ps_car_12', 'ps_car_13', 'ps_car_14', 'ps_car_15', 'ps_calc_01',\n",
       "       'ps_calc_02', 'ps_calc_03', 'ps_calc_04', 'ps_calc_05', 'ps_calc_06',\n",
       "       'ps_calc_07', 'ps_calc_08', 'ps_calc_09', 'ps_calc_10', 'ps_calc_11',\n",
       "       'ps_calc_12', 'ps_calc_13', 'ps_calc_14', 'ps_calc_15_bin',\n",
       "       'ps_calc_16_bin', 'ps_calc_17_bin', 'ps_calc_18_bin', 'ps_calc_19_bin',\n",
       "       'ps_calc_20_bin'],\n",
       "      dtype='object')"
      ]
     },
     "execution_count": 7,
     "metadata": {},
     "output_type": "execute_result"
    }
   ],
   "source": [
    "all_features = all_data.columns\n",
    "all_features"
   ]
  },
  {
   "cell_type": "code",
   "execution_count": 8,
   "metadata": {},
   "outputs": [],
   "source": [
    "from sklearn.preprocessing import OneHotEncoder\n",
    "\n",
    "#one hot encoding for categorical datas\n",
    "cat_features = [feature for feature in all_features if 'cat' in feature]\n",
    "onehot_encoder = OneHotEncoder()\n",
    "\n",
    "encoded_cat_matrix = onehot_encoder.fit_transform(all_data[cat_features])"
   ]
  },
  {
   "cell_type": "code",
   "execution_count": 38,
   "metadata": {},
   "outputs": [],
   "source": [
    "drop_features = ['ps_ind_10_bin','ps_ind_11_bin','ps_ind_12_bin','ps_ind_13_bin','ps_ind_14','ps_car_14']"
   ]
  },
  {
   "cell_type": "code",
   "execution_count": 32,
   "metadata": {},
   "outputs": [],
   "source": [
    "remaining_features = [feature for feature in all_features if ('cat' not in feature and 'calc' not in feature and feature not in drop_features)]"
   ]
  },
  {
   "cell_type": "code",
   "execution_count": 33,
   "metadata": {},
   "outputs": [
    {
     "data": {
      "text/plain": [
       "['ps_ind_01',\n",
       " 'ps_ind_03',\n",
       " 'ps_ind_06_bin',\n",
       " 'ps_ind_07_bin',\n",
       " 'ps_ind_08_bin',\n",
       " 'ps_ind_09_bin',\n",
       " 'ps_ind_15',\n",
       " 'ps_ind_16_bin',\n",
       " 'ps_ind_17_bin',\n",
       " 'ps_ind_18_bin',\n",
       " 'ps_reg_01',\n",
       " 'ps_reg_02',\n",
       " 'ps_reg_03',\n",
       " 'ps_car_11',\n",
       " 'ps_car_12',\n",
       " 'ps_car_13',\n",
       " 'ps_car_15']"
      ]
     },
     "execution_count": 33,
     "metadata": {},
     "output_type": "execute_result"
    }
   ],
   "source": [
    "remaining_features"
   ]
  },
  {
   "cell_type": "markdown",
   "metadata": {},
   "source": [
    "Sparse한 (ex : Onehot encoded) matrix를 다룰 때 scipy.sparse를 사용한다. 대규모 행렬을 다룰 때 메모리 문제를 해결하기 위해 사용한다. scipy.sparse의 matrix를 만드는 방법은 sparse matrix 구성요소를 직접 입력하는 방법과 numpy.ndarray를 입력하는 방법이 있다."
   ]
  },
  {
   "cell_type": "code",
   "execution_count": 12,
   "metadata": {},
   "outputs": [],
   "source": [
    "from scipy import  sparse\n",
    "all_data_sprs = sparse.hstack([sparse.csr_matrix(all_data[remaining_features]),encoded_cat_matrix],format='csr')"
   ]
  },
  {
   "cell_type": "code",
   "execution_count": 13,
   "metadata": {},
   "outputs": [
    {
     "data": {
      "text/plain": [
       "((1488028, 201), (595212, 58), (892816, 57))"
      ]
     },
     "execution_count": 13,
     "metadata": {},
     "output_type": "execute_result"
    }
   ],
   "source": [
    "all_data_sprs.shape, train.shape, test.shape"
   ]
  },
  {
   "cell_type": "code",
   "execution_count": 14,
   "metadata": {},
   "outputs": [
    {
     "name": "stdout",
     "output_type": "stream",
     "text": [
      "595212\n"
     ]
    }
   ],
   "source": [
    "num_train = len(train)\n",
    "print(num_train)\n",
    "\n",
    "X = all_data_sprs[:num_train]\n",
    "X_test = all_data_sprs[num_train:]\n",
    "\n",
    "y = train['target'].values"
   ]
  },
  {
   "cell_type": "code",
   "execution_count": 15,
   "metadata": {},
   "outputs": [],
   "source": [
    "import numpy as np\n",
    "def eval_gini(y_true, y_pred):\n",
    "    assert y_true.shape == y_pred.shape\n",
    "\n",
    "    n_samples = y_true.shape[0]\n",
    "    L_mid = np.linspace(1/n_samples, 1, n_samples)\n",
    "\n",
    "    pred_order = y_true[y_pred.argsort()]\n",
    "    true_order = y_true[y_true.argsort()]\n",
    "    \n",
    "    L_pred = np.cumsum(pred_order)/np.sum(true_order)\n",
    "    G_pred = np.sum(L_mid - L_pred)\n",
    "    \n",
    "    \n",
    "    L_true = np.cumsum(true_order)/np.sum(true_order)\n",
    "    G_true = np.sum(L_mid - L_true)\n",
    "\n",
    "    #Normalized Gini coefficient\n",
    "    return G_pred/G_true    "
   ]
  },
  {
   "cell_type": "code",
   "execution_count": 16,
   "metadata": {},
   "outputs": [],
   "source": [
    "#gini for LGBM\n",
    "def gini(preds,dtrain):\n",
    "    labels = dtrain.get_label()\n",
    "    return 'gini', eval_gini(labels,preds), True"
   ]
  },
  {
   "cell_type": "code",
   "execution_count": 17,
   "metadata": {},
   "outputs": [],
   "source": [
    "from sklearn.model_selection import StratifiedKFold\n",
    "\n",
    "folds = StratifiedKFold(n_splits=5, shuffle=True, random_state=1991)"
   ]
  },
  {
   "cell_type": "code",
   "execution_count": 18,
   "metadata": {},
   "outputs": [
    {
     "name": "stdout",
     "output_type": "stream",
     "text": [
      "<generator object _BaseKFold.split at 0x000001C22A04A350>\n"
     ]
    }
   ],
   "source": [
    "print(folds.split(X,y))"
   ]
  },
  {
   "cell_type": "code",
   "execution_count": 19,
   "metadata": {},
   "outputs": [],
   "source": [
    "lgb_params = {\n",
    "    'objective':'binary',\n",
    "    'learning_rate':0.01,\n",
    "    'force_row_wise':True,\n",
    "    'random_state':0,\n",
    "    'scale_pos_weight': 2,\n",
    "}"
   ]
  },
  {
   "cell_type": "code",
   "execution_count": 20,
   "metadata": {},
   "outputs": [],
   "source": [
    "oof_val_preds = np.zeros(X.shape[0])\n",
    "oof_test_preds = np.zeros(X_test.shape[0])"
   ]
  },
  {
   "cell_type": "code",
   "execution_count": 21,
   "metadata": {},
   "outputs": [
    {
     "name": "stdout",
     "output_type": "stream",
     "text": [
      "######################################## 폴드 1 / 5 ########################################\n",
      "[LightGBM] [Info] Number of positive: 17355, number of negative: 458814\n",
      "[LightGBM] [Info] Total Bins 1095\n",
      "[LightGBM] [Info] Number of data points in the train set: 476169, number of used features: 200\n",
      "[LightGBM] [Info] [binary:BoostFromScore]: pavg=0.036447 -> initscore=-3.274764\n",
      "[LightGBM] [Info] Start training from score -3.274764\n",
      "Training until validation scores don't improve for 5 rounds\n",
      "Early stopping, best iteration is:\n",
      "[24]\tvalid_0's binary_logloss: 0.155301\tvalid_0's gini: 0.243445\n",
      "fold 1 gini score : 0.2434451362266238\n",
      "\n",
      "######################################## 폴드 2 / 5 ########################################\n",
      "[LightGBM] [Info] Number of positive: 17355, number of negative: 458814\n",
      "[LightGBM] [Info] Total Bins 1093\n",
      "[LightGBM] [Info] Number of data points in the train set: 476169, number of used features: 200\n",
      "[LightGBM] [Info] [binary:BoostFromScore]: pavg=0.036447 -> initscore=-3.274764\n",
      "[LightGBM] [Info] Start training from score -3.274764\n",
      "Training until validation scores don't improve for 5 rounds\n",
      "Early stopping, best iteration is:\n",
      "[24]\tvalid_0's binary_logloss: 0.155345\tvalid_0's gini: 0.238196\n",
      "fold 2 gini score : 0.23819567157653104\n",
      "\n",
      "######################################## 폴드 3 / 5 ########################################\n",
      "[LightGBM] [Info] Number of positive: 17356, number of negative: 458814\n",
      "[LightGBM] [Info] Total Bins 1097\n",
      "[LightGBM] [Info] Number of data points in the train set: 476170, number of used features: 200\n",
      "[LightGBM] [Info] [binary:BoostFromScore]: pavg=0.036449 -> initscore=-3.274707\n",
      "[LightGBM] [Info] Start training from score -3.274707\n",
      "Training until validation scores don't improve for 5 rounds\n",
      "Early stopping, best iteration is:\n",
      "[25]\tvalid_0's binary_logloss: 0.155237\tvalid_0's gini: 0.247487\n",
      "fold 3 gini score : 0.2474874813186045\n",
      "\n",
      "######################################## 폴드 4 / 5 ########################################\n",
      "[LightGBM] [Info] Number of positive: 17355, number of negative: 458815\n",
      "[LightGBM] [Info] Total Bins 1096\n",
      "[LightGBM] [Info] Number of data points in the train set: 476170, number of used features: 200\n",
      "[LightGBM] [Info] [binary:BoostFromScore]: pavg=0.036447 -> initscore=-3.274766\n",
      "[LightGBM] [Info] Start training from score -3.274766\n",
      "Training until validation scores don't improve for 5 rounds\n",
      "Early stopping, best iteration is:\n",
      "[25]\tvalid_0's binary_logloss: 0.155311\tvalid_0's gini: 0.234866\n",
      "fold 4 gini score : 0.23486587102873827\n",
      "\n",
      "######################################## 폴드 5 / 5 ########################################\n",
      "[LightGBM] [Info] Number of positive: 17355, number of negative: 458815\n",
      "[LightGBM] [Info] Total Bins 1098\n",
      "[LightGBM] [Info] Number of data points in the train set: 476170, number of used features: 200\n",
      "[LightGBM] [Info] [binary:BoostFromScore]: pavg=0.036447 -> initscore=-3.274766\n",
      "[LightGBM] [Info] Start training from score -3.274766\n",
      "Training until validation scores don't improve for 5 rounds\n",
      "Early stopping, best iteration is:\n",
      "[25]\tvalid_0's binary_logloss: 0.155346\tvalid_0's gini: 0.246322\n",
      "fold 5 gini score : 0.24632175648589352\n",
      "\n"
     ]
    }
   ],
   "source": [
    "import lightgbm as lgb\n",
    "#Normal Test\n",
    "for idx, (train_idx,valid_idx) in enumerate(folds.split(X,y)):\n",
    "    print('#'*40,f'폴드 {idx+1} / {folds.n_splits}','#'*40)\n",
    "    #Train, Validation data\n",
    "    X_train, y_train = X[train_idx],y[train_idx]\n",
    "    X_valid, y_valid = X[valid_idx],y[valid_idx]\n",
    "\n",
    "    #data set for lgbm\n",
    "    lgb_train = lgb.Dataset(X_train,y_train)\n",
    "    lgb_valid = lgb.Dataset(X_valid,y_valid)\n",
    "\n",
    "    # train lgbm model\n",
    "    lgb_model = lgb.train(params=lgb_params,\n",
    "                         train_set = lgb_train,\n",
    "                         num_boost_round=1000,\n",
    "                         valid_sets=lgb_valid,\n",
    "                         feval = gini,                                                   \n",
    "                         callbacks=[lgb.early_stopping(stopping_rounds=5)])\n",
    "\n",
    "    #oof prediction based on test data\n",
    "    oof_test_preds += lgb_model.predict(X_test)/folds.n_splits\n",
    "    #based in validation data\n",
    "    oof_val_preds[valid_idx] += lgb_model.predict(X_valid)\n",
    "\n",
    "    #gini\n",
    "    gini_score = eval_gini(y_valid, oof_val_preds[valid_idx])\n",
    "    print(f'fold {idx+1} gini score : {gini_score}\\n')"
   ]
  },
  {
   "cell_type": "code",
   "execution_count": 22,
   "metadata": {},
   "outputs": [
    {
     "name": "stdout",
     "output_type": "stream",
     "text": [
      "######################################## 폴드 1 / 5 ########################################\n",
      "[LightGBM] [Info] Number of positive: 17355, number of negative: 458814\n",
      "[LightGBM] [Info] Total Bins 1095\n",
      "[LightGBM] [Info] Number of data points in the train set: 476169, number of used features: 200\n",
      "[LightGBM] [Info] [binary:BoostFromScore]: pavg=0.036447 -> initscore=-3.274764\n",
      "[LightGBM] [Info] Start training from score -3.274764\n",
      "Training until validation scores don't improve for 5 rounds\n",
      "Early stopping, best iteration is:\n",
      "[24]\tvalid_0's binary_logloss: 0.155301\tvalid_0's gini: 0.243445\n",
      "fold 1 gini score : 0.2434451362266238\n",
      "\n",
      "######################################## 폴드 2 / 5 ########################################\n",
      "[LightGBM] [Info] Number of positive: 17355, number of negative: 458814\n",
      "[LightGBM] [Info] Total Bins 1093\n",
      "[LightGBM] [Info] Number of data points in the train set: 476169, number of used features: 200\n",
      "[LightGBM] [Info] [binary:BoostFromScore]: pavg=0.036447 -> initscore=-3.274764\n",
      "[LightGBM] [Info] Start training from score -3.274764\n",
      "Training until validation scores don't improve for 5 rounds\n",
      "Early stopping, best iteration is:\n",
      "[24]\tvalid_0's binary_logloss: 0.155345\tvalid_0's gini: 0.238196\n",
      "fold 2 gini score : 0.23819567157653104\n",
      "\n",
      "######################################## 폴드 3 / 5 ########################################\n",
      "[LightGBM] [Info] Number of positive: 17356, number of negative: 458814\n",
      "[LightGBM] [Info] Total Bins 1097\n",
      "[LightGBM] [Info] Number of data points in the train set: 476170, number of used features: 200\n",
      "[LightGBM] [Info] [binary:BoostFromScore]: pavg=0.036449 -> initscore=-3.274707\n",
      "[LightGBM] [Info] Start training from score -3.274707\n",
      "Training until validation scores don't improve for 5 rounds\n",
      "Early stopping, best iteration is:\n",
      "[25]\tvalid_0's binary_logloss: 0.155237\tvalid_0's gini: 0.247487\n",
      "fold 3 gini score : 0.2474874813186045\n",
      "\n",
      "######################################## 폴드 4 / 5 ########################################\n",
      "[LightGBM] [Info] Number of positive: 17355, number of negative: 458815\n",
      "[LightGBM] [Info] Total Bins 1096\n",
      "[LightGBM] [Info] Number of data points in the train set: 476170, number of used features: 200\n",
      "[LightGBM] [Info] [binary:BoostFromScore]: pavg=0.036447 -> initscore=-3.274766\n",
      "[LightGBM] [Info] Start training from score -3.274766\n",
      "Training until validation scores don't improve for 5 rounds\n",
      "Early stopping, best iteration is:\n",
      "[25]\tvalid_0's binary_logloss: 0.155311\tvalid_0's gini: 0.234866\n",
      "fold 4 gini score : 0.23486587102873827\n",
      "\n",
      "######################################## 폴드 5 / 5 ########################################\n",
      "[LightGBM] [Info] Number of positive: 17355, number of negative: 458815\n",
      "[LightGBM] [Info] Total Bins 1098\n",
      "[LightGBM] [Info] Number of data points in the train set: 476170, number of used features: 200\n",
      "[LightGBM] [Info] [binary:BoostFromScore]: pavg=0.036447 -> initscore=-3.274766\n",
      "[LightGBM] [Info] Start training from score -3.274766\n",
      "Training until validation scores don't improve for 5 rounds\n",
      "Early stopping, best iteration is:\n",
      "[25]\tvalid_0's binary_logloss: 0.155346\tvalid_0's gini: 0.246322\n",
      "fold 5 gini score : 0.24632175648589352\n",
      "\n"
     ]
    }
   ],
   "source": [
    "#is_unbalance\n",
    "for idx, (train_idx,valid_idx) in enumerate(folds.split(X,y)):\n",
    "    print('#'*40,f'폴드 {idx+1} / {folds.n_splits}','#'*40)\n",
    "    #Train, Validation data\n",
    "    X_train, y_train = X[train_idx],y[train_idx]\n",
    "    X_valid, y_valid = X[valid_idx],y[valid_idx]\n",
    "\n",
    "    #data set for lgbm\n",
    "    lgb_train = lgb.Dataset(X_train,y_train)\n",
    "    lgb_valid = lgb.Dataset(X_valid,y_valid)\n",
    "\n",
    "    # train lgbm model\n",
    "    lgb_model = lgb.train(params=lgb_params,\n",
    "                         train_set = lgb_train,\n",
    "                         num_boost_round=1000,\n",
    "                         valid_sets=lgb_valid,\n",
    "                         feval = gini,                            \n",
    "                         callbacks=[lgb.early_stopping(stopping_rounds=5)])\n",
    "\n",
    "    #oof prediction based on test data\n",
    "    oof_test_preds += lgb_model.predict(X_test)/folds.n_splits\n",
    "    #based in validation data\n",
    "    oof_val_preds[valid_idx] += lgb_model.predict(X_valid)\n",
    "\n",
    "    #gini\n",
    "    gini_score = eval_gini(y_valid, oof_val_preds[valid_idx])\n",
    "    print(f'fold {idx+1} gini score : {gini_score}\\n')"
   ]
  },
  {
   "cell_type": "code",
   "execution_count": 23,
   "metadata": {},
   "outputs": [
    {
     "name": "stdout",
     "output_type": "stream",
     "text": [
      "######################################## 폴드 1 / 5 ########################################\n",
      "[LightGBM] [Info] Number of positive: 17355, number of negative: 458814\n",
      "[LightGBM] [Info] Total Bins 1095\n",
      "[LightGBM] [Info] Number of data points in the train set: 476169, number of used features: 200\n",
      "[LightGBM] [Info] [binary:BoostFromScore]: pavg=0.036447 -> initscore=-3.274764\n",
      "[LightGBM] [Info] Start training from score -3.274764\n",
      "Training until validation scores don't improve for 5 rounds\n",
      "Early stopping, best iteration is:\n",
      "[2]\tvalid_0's binary_logloss: 0.156172\tvalid_0's gini: 0.22999\n",
      "fold 1 gini score : 0.24268400803554507\n",
      "\n",
      "######################################## 폴드 2 / 5 ########################################\n",
      "[LightGBM] [Info] Number of positive: 17355, number of negative: 458814\n",
      "[LightGBM] [Info] Total Bins 1093\n",
      "[LightGBM] [Info] Number of data points in the train set: 476169, number of used features: 200\n",
      "[LightGBM] [Info] [binary:BoostFromScore]: pavg=0.036447 -> initscore=-3.274764\n",
      "[LightGBM] [Info] Start training from score -3.274764\n",
      "Training until validation scores don't improve for 5 rounds\n",
      "Early stopping, best iteration is:\n",
      "[2]\tvalid_0's binary_logloss: 0.156199\tvalid_0's gini: 0.219243\n",
      "fold 2 gini score : 0.23727706318313563\n",
      "\n",
      "######################################## 폴드 3 / 5 ########################################\n",
      "[LightGBM] [Info] Number of positive: 17356, number of negative: 458814\n",
      "[LightGBM] [Info] Total Bins 1097\n",
      "[LightGBM] [Info] Number of data points in the train set: 476170, number of used features: 200\n",
      "[LightGBM] [Info] [binary:BoostFromScore]: pavg=0.036449 -> initscore=-3.274707\n",
      "[LightGBM] [Info] Start training from score -3.274707\n",
      "Training until validation scores don't improve for 5 rounds\n",
      "Early stopping, best iteration is:\n",
      "[2]\tvalid_0's binary_logloss: 0.156142\tvalid_0's gini: 0.235148\n",
      "fold 3 gini score : 0.24678607888029777\n",
      "\n",
      "######################################## 폴드 4 / 5 ########################################\n",
      "[LightGBM] [Info] Number of positive: 17355, number of negative: 458815\n",
      "[LightGBM] [Info] Total Bins 1096\n",
      "[LightGBM] [Info] Number of data points in the train set: 476170, number of used features: 200\n",
      "[LightGBM] [Info] [binary:BoostFromScore]: pavg=0.036447 -> initscore=-3.274766\n",
      "[LightGBM] [Info] Start training from score -3.274766\n",
      "Training until validation scores don't improve for 5 rounds\n",
      "Early stopping, best iteration is:\n",
      "[2]\tvalid_0's binary_logloss: 0.156186\tvalid_0's gini: 0.223763\n",
      "fold 4 gini score : 0.234347739808571\n",
      "\n",
      "######################################## 폴드 5 / 5 ########################################\n",
      "[LightGBM] [Info] Number of positive: 17355, number of negative: 458815\n",
      "[LightGBM] [Info] Total Bins 1098\n",
      "[LightGBM] [Info] Number of data points in the train set: 476170, number of used features: 200\n",
      "[LightGBM] [Info] [binary:BoostFromScore]: pavg=0.036447 -> initscore=-3.274766\n",
      "[LightGBM] [Info] Start training from score -3.274766\n",
      "Training until validation scores don't improve for 5 rounds\n",
      "Early stopping, best iteration is:\n",
      "[2]\tvalid_0's binary_logloss: 0.156196\tvalid_0's gini: 0.229913\n",
      "fold 5 gini score : 0.24545886884672297\n",
      "\n"
     ]
    }
   ],
   "source": [
    "lgb_params = {\n",
    "    'objective':'binary',\n",
    "    'learning_rate':0.01,\n",
    "    'force_row_wise':True,\n",
    "    'random_state':0,\n",
    "    'scale_pos_weight': 10,\n",
    "}\n",
    "\n",
    "#scale_pos_weight :1.5~10 \n",
    "for idx, (train_idx,valid_idx) in enumerate(folds.split(X,y)):\n",
    "    print('#'*40,f'폴드 {idx+1} / {folds.n_splits}','#'*40)\n",
    "    #Train, Validation data\n",
    "    X_train, y_train = X[train_idx],y[train_idx]\n",
    "    X_valid, y_valid = X[valid_idx],y[valid_idx]\n",
    "\n",
    "    #data set for lgbm\n",
    "    lgb_train = lgb.Dataset(X_train,y_train)\n",
    "    lgb_valid = lgb.Dataset(X_valid,y_valid)\n",
    "\n",
    "    # train lgbm model\n",
    "    lgb_model = lgb.train(params=lgb_params,\n",
    "                         train_set = lgb_train,\n",
    "                         num_boost_round=1000,\n",
    "                         valid_sets=lgb_valid,\n",
    "                         feval = gini,                                                   \n",
    "                         callbacks=[lgb.early_stopping(stopping_rounds=5)])\n",
    "\n",
    "    #oof prediction based on test data\n",
    "    oof_test_preds += lgb_model.predict(X_test)/folds.n_splits\n",
    "    #based in validation data\n",
    "    oof_val_preds[valid_idx] += lgb_model.predict(X_valid)\n",
    "\n",
    "    #gini\n",
    "    gini_score = eval_gini(y_valid, oof_val_preds[valid_idx])\n",
    "    print(f'fold {idx+1} gini score : {gini_score}\\n')"
   ]
  },
  {
   "cell_type": "code",
   "execution_count": 24,
   "metadata": {},
   "outputs": [
    {
     "name": "stdout",
     "output_type": "stream",
     "text": [
      "0.24051405638858542\n"
     ]
    }
   ],
   "source": [
    "print(eval_gini(y,oof_val_preds))"
   ]
  },
  {
   "cell_type": "code",
   "execution_count": 25,
   "metadata": {},
   "outputs": [
    {
     "name": "stdout",
     "output_type": "stream",
     "text": [
      "0.0\n"
     ]
    }
   ],
   "source": [
    "print(np.sum(np.round(oof_test_preds))/len(oof_test_preds))"
   ]
  },
  {
   "cell_type": "code",
   "execution_count": 26,
   "metadata": {},
   "outputs": [],
   "source": [
    "submission['target'] = oof_test_preds\n",
    "submission.to_csv('base_submission.csv')"
   ]
  },
  {
   "cell_type": "code",
   "execution_count": 44,
   "metadata": {},
   "outputs": [
    {
     "name": "stdout",
     "output_type": "stream",
     "text": [
      "0:\tlearn: 0.6779601\ttotal: 159ms\tremaining: 2m 38s\n",
      "100:\tlearn: 0.1907700\ttotal: 1.99s\tremaining: 17.7s\n",
      "200:\tlearn: 0.1573888\ttotal: 3.8s\tremaining: 15.1s\n",
      "300:\tlearn: 0.1533853\ttotal: 5.62s\tremaining: 13.1s\n",
      "400:\tlearn: 0.1524993\ttotal: 7.45s\tremaining: 11.1s\n",
      "500:\tlearn: 0.1521244\ttotal: 9.32s\tremaining: 9.29s\n",
      "600:\tlearn: 0.1518982\ttotal: 11.2s\tremaining: 7.44s\n",
      "700:\tlearn: 0.1517195\ttotal: 13.1s\tremaining: 5.57s\n",
      "800:\tlearn: 0.1515691\ttotal: 14.9s\tremaining: 3.71s\n",
      "900:\tlearn: 0.1514354\ttotal: 16.9s\tremaining: 1.85s\n",
      "999:\tlearn: 0.1513157\ttotal: 18.7s\tremaining: 0us\n",
      "class :  [0 0 0 ... 0 0 0]\n",
      "proba :  [[0.97637093 0.02362907]\n",
      " [0.97398323 0.02601677]\n",
      " [0.97288855 0.02711145]\n",
      " ...\n",
      " [0.96393678 0.03606322]\n",
      " [0.97309088 0.02690912]\n",
      " [0.96725185 0.03274815]]\n"
     ]
    }
   ],
   "source": [
    "from catboost import CatBoostClassifier, Pool\n",
    "\n",
    "# test_data = Pool(X,y)\n",
    "model = CatBoostClassifier(iterations =1000, depth=5,learning_rate = 0.01,loss_function='Logloss',verbose=100,od_pval=0.01)\n",
    "\n",
    "history = model.fit(X,y)\n",
    "preds_class = model.predict(X_test)\n",
    "preds_proba = model.predict_proba(X_test)\n",
    "print('class : ',preds_class)\n",
    "print('proba : ',preds_proba)"
   ]
  },
  {
   "cell_type": "code",
   "execution_count": 28,
   "metadata": {},
   "outputs": [
    {
     "name": "stdout",
     "output_type": "stream",
     "text": [
      "[0.97463692 0.97460532 0.97273679 ... 0.96242168 0.97436631 0.9689999 ]\n",
      "0.9635820950969949\n",
      "0.036417904903005484\n"
     ]
    }
   ],
   "source": [
    "print(preds_proba[:,0])\n",
    "np.round(preds_proba)\n",
    "print(np.sum(preds_proba[:,0])/preds_proba.shape[0])\n",
    "print(np.sum(preds_proba[:,1])/preds_proba.shape[0])"
   ]
  },
  {
   "cell_type": "markdown",
   "metadata": {},
   "source": [
    "#lgbm model"
   ]
  },
  {
   "cell_type": "code",
   "execution_count": 1,
   "metadata": {},
   "outputs": [],
   "source": [
    "def path(name=False):\n",
    "    if name:\n",
    "        path = '/kaggle/input/porto-seguro-safe-driver-prediction/'\n",
    "    else:\n",
    "        path = 'C:/Users/hakan/Jupyter Notebook/data/porto-seguro-safe-driver-prediction/'\n",
    "    return path"
   ]
  },
  {
   "cell_type": "code",
   "execution_count": 2,
   "metadata": {},
   "outputs": [],
   "source": [
    "#import data for jupyter\n",
    "import pandas as pd\n",
    "\n",
    "data_path =path()\n",
    "train = pd.read_csv(data_path+'train.csv',index_col='id')\n",
    "test = pd.read_csv(data_path+'test.csv',index_col='id')\n",
    "submission = pd.read_csv(data_path+'sample_submission.csv',index_col='id')"
   ]
  },
  {
   "cell_type": "code",
   "execution_count": 3,
   "metadata": {},
   "outputs": [],
   "source": [
    "all_data = pd.concat([train,test],ignore_index=True)\n",
    "all_data = all_data.drop('target',axis=1)\n",
    "target = train['target']\n",
    "all_features = all_data.columns"
   ]
  },
  {
   "cell_type": "code",
   "execution_count": 4,
   "metadata": {},
   "outputs": [],
   "source": [
    "from sklearn.preprocessing import OneHotEncoder\n",
    "\n",
    "cat_features = [feature for feature in all_features if 'cat' in feature]\n",
    "\n",
    "onehot_encoder = OneHotEncoder()\n",
    "encoded_cat_matrix = onehot_encoder.fit_transform(all_data[cat_features])"
   ]
  },
  {
   "cell_type": "markdown",
   "metadata": {},
   "source": [
    "#yet not dropped onehot encoded geatures."
   ]
  },
  {
   "cell_type": "code",
   "execution_count": 5,
   "metadata": {},
   "outputs": [
    {
     "name": "stdout",
     "output_type": "stream",
     "text": [
      "0          1\n",
      "1          2\n",
      "2          3\n",
      "3          0\n",
      "4          2\n",
      "          ..\n",
      "1488023    1\n",
      "1488024    1\n",
      "1488025    2\n",
      "1488026    1\n",
      "1488027    0\n",
      "Length: 1488028, dtype: int64\n"
     ]
    }
   ],
   "source": [
    "print((all_data==-1).sum(axis=1))\n",
    "all_data['num_missing']=(all_data==-1).sum(axis=1)"
   ]
  },
  {
   "cell_type": "code",
   "execution_count": 6,
   "metadata": {},
   "outputs": [
    {
     "data": {
      "text/html": [
       "<div>\n",
       "<style scoped>\n",
       "    .dataframe tbody tr th:only-of-type {\n",
       "        vertical-align: middle;\n",
       "    }\n",
       "\n",
       "    .dataframe tbody tr th {\n",
       "        vertical-align: top;\n",
       "    }\n",
       "\n",
       "    .dataframe thead th {\n",
       "        text-align: right;\n",
       "    }\n",
       "</style>\n",
       "<table border=\"1\" class=\"dataframe\">\n",
       "  <thead>\n",
       "    <tr style=\"text-align: right;\">\n",
       "      <th></th>\n",
       "      <th>ps_ind_01</th>\n",
       "      <th>ps_ind_02_cat</th>\n",
       "      <th>ps_ind_03</th>\n",
       "      <th>ps_ind_04_cat</th>\n",
       "      <th>ps_ind_05_cat</th>\n",
       "      <th>ps_ind_06_bin</th>\n",
       "      <th>ps_ind_07_bin</th>\n",
       "      <th>ps_ind_08_bin</th>\n",
       "      <th>ps_ind_09_bin</th>\n",
       "      <th>ps_ind_10_bin</th>\n",
       "      <th>...</th>\n",
       "      <th>ps_calc_12</th>\n",
       "      <th>ps_calc_13</th>\n",
       "      <th>ps_calc_14</th>\n",
       "      <th>ps_calc_15_bin</th>\n",
       "      <th>ps_calc_16_bin</th>\n",
       "      <th>ps_calc_17_bin</th>\n",
       "      <th>ps_calc_18_bin</th>\n",
       "      <th>ps_calc_19_bin</th>\n",
       "      <th>ps_calc_20_bin</th>\n",
       "      <th>num_missing</th>\n",
       "    </tr>\n",
       "  </thead>\n",
       "  <tbody>\n",
       "    <tr>\n",
       "      <th>0</th>\n",
       "      <td>2</td>\n",
       "      <td>2</td>\n",
       "      <td>5</td>\n",
       "      <td>1</td>\n",
       "      <td>0</td>\n",
       "      <td>0</td>\n",
       "      <td>1</td>\n",
       "      <td>0</td>\n",
       "      <td>0</td>\n",
       "      <td>0</td>\n",
       "      <td>...</td>\n",
       "      <td>1</td>\n",
       "      <td>5</td>\n",
       "      <td>8</td>\n",
       "      <td>0</td>\n",
       "      <td>1</td>\n",
       "      <td>1</td>\n",
       "      <td>0</td>\n",
       "      <td>0</td>\n",
       "      <td>1</td>\n",
       "      <td>1</td>\n",
       "    </tr>\n",
       "    <tr>\n",
       "      <th>1</th>\n",
       "      <td>1</td>\n",
       "      <td>1</td>\n",
       "      <td>7</td>\n",
       "      <td>0</td>\n",
       "      <td>0</td>\n",
       "      <td>0</td>\n",
       "      <td>0</td>\n",
       "      <td>1</td>\n",
       "      <td>0</td>\n",
       "      <td>0</td>\n",
       "      <td>...</td>\n",
       "      <td>1</td>\n",
       "      <td>1</td>\n",
       "      <td>9</td>\n",
       "      <td>0</td>\n",
       "      <td>1</td>\n",
       "      <td>1</td>\n",
       "      <td>0</td>\n",
       "      <td>1</td>\n",
       "      <td>0</td>\n",
       "      <td>2</td>\n",
       "    </tr>\n",
       "    <tr>\n",
       "      <th>2</th>\n",
       "      <td>5</td>\n",
       "      <td>4</td>\n",
       "      <td>9</td>\n",
       "      <td>1</td>\n",
       "      <td>0</td>\n",
       "      <td>0</td>\n",
       "      <td>0</td>\n",
       "      <td>1</td>\n",
       "      <td>0</td>\n",
       "      <td>0</td>\n",
       "      <td>...</td>\n",
       "      <td>2</td>\n",
       "      <td>7</td>\n",
       "      <td>7</td>\n",
       "      <td>0</td>\n",
       "      <td>1</td>\n",
       "      <td>1</td>\n",
       "      <td>0</td>\n",
       "      <td>1</td>\n",
       "      <td>0</td>\n",
       "      <td>3</td>\n",
       "    </tr>\n",
       "    <tr>\n",
       "      <th>3</th>\n",
       "      <td>0</td>\n",
       "      <td>1</td>\n",
       "      <td>2</td>\n",
       "      <td>0</td>\n",
       "      <td>0</td>\n",
       "      <td>1</td>\n",
       "      <td>0</td>\n",
       "      <td>0</td>\n",
       "      <td>0</td>\n",
       "      <td>0</td>\n",
       "      <td>...</td>\n",
       "      <td>2</td>\n",
       "      <td>4</td>\n",
       "      <td>9</td>\n",
       "      <td>0</td>\n",
       "      <td>0</td>\n",
       "      <td>0</td>\n",
       "      <td>0</td>\n",
       "      <td>0</td>\n",
       "      <td>0</td>\n",
       "      <td>0</td>\n",
       "    </tr>\n",
       "    <tr>\n",
       "      <th>4</th>\n",
       "      <td>0</td>\n",
       "      <td>2</td>\n",
       "      <td>0</td>\n",
       "      <td>1</td>\n",
       "      <td>0</td>\n",
       "      <td>1</td>\n",
       "      <td>0</td>\n",
       "      <td>0</td>\n",
       "      <td>0</td>\n",
       "      <td>0</td>\n",
       "      <td>...</td>\n",
       "      <td>1</td>\n",
       "      <td>1</td>\n",
       "      <td>3</td>\n",
       "      <td>0</td>\n",
       "      <td>0</td>\n",
       "      <td>0</td>\n",
       "      <td>1</td>\n",
       "      <td>1</td>\n",
       "      <td>0</td>\n",
       "      <td>2</td>\n",
       "    </tr>\n",
       "  </tbody>\n",
       "</table>\n",
       "<p>5 rows × 58 columns</p>\n",
       "</div>"
      ],
      "text/plain": [
       "   ps_ind_01  ps_ind_02_cat  ps_ind_03  ps_ind_04_cat  ps_ind_05_cat  \\\n",
       "0          2              2          5              1              0   \n",
       "1          1              1          7              0              0   \n",
       "2          5              4          9              1              0   \n",
       "3          0              1          2              0              0   \n",
       "4          0              2          0              1              0   \n",
       "\n",
       "   ps_ind_06_bin  ps_ind_07_bin  ps_ind_08_bin  ps_ind_09_bin  ps_ind_10_bin  \\\n",
       "0              0              1              0              0              0   \n",
       "1              0              0              1              0              0   \n",
       "2              0              0              1              0              0   \n",
       "3              1              0              0              0              0   \n",
       "4              1              0              0              0              0   \n",
       "\n",
       "   ...  ps_calc_12  ps_calc_13  ps_calc_14  ps_calc_15_bin  ps_calc_16_bin  \\\n",
       "0  ...           1           5           8               0               1   \n",
       "1  ...           1           1           9               0               1   \n",
       "2  ...           2           7           7               0               1   \n",
       "3  ...           2           4           9               0               0   \n",
       "4  ...           1           1           3               0               0   \n",
       "\n",
       "   ps_calc_17_bin  ps_calc_18_bin  ps_calc_19_bin  ps_calc_20_bin  num_missing  \n",
       "0               1               0               0               1            1  \n",
       "1               1               0               1               0            2  \n",
       "2               1               0               1               0            3  \n",
       "3               0               0               0               0            0  \n",
       "4               0               1               1               0            2  \n",
       "\n",
       "[5 rows x 58 columns]"
      ]
     },
     "execution_count": 6,
     "metadata": {},
     "output_type": "execute_result"
    }
   ],
   "source": [
    "all_data.head()"
   ]
  },
  {
   "cell_type": "code",
   "execution_count": 7,
   "metadata": {},
   "outputs": [],
   "source": [
    "ind_features = [feature for feature in all_features if 'ind' in feature]\n",
    "\n",
    "is_first_feature = True\n",
    "for ind_feature in ind_features:\n",
    "    if is_first_feature:\n",
    "        all_data['mix_ind'] = all_data[ind_feature].astype(str)+'_'\n",
    "        is_first_feature = False\n",
    "    else :\n",
    "        all_data['mix_ind'] += all_data[ind_feature].astype(str)+'_'"
   ]
  },
  {
   "cell_type": "code",
   "execution_count": 8,
   "metadata": {},
   "outputs": [
    {
     "data": {
      "text/plain": [
       "0          2_2_5_1_0_0_1_0_0_0_0_0_0_0_11_0_1_0_\n",
       "1           1_1_7_0_0_0_0_1_0_0_0_0_0_0_3_0_0_1_\n",
       "2          5_4_9_1_0_0_0_1_0_0_0_0_0_0_12_1_0_0_\n",
       "3           0_1_2_0_0_1_0_0_0_0_0_0_0_0_8_1_0_0_\n",
       "4           0_2_0_1_0_1_0_0_0_0_0_0_0_0_9_1_0_0_\n",
       "                           ...                  \n",
       "1488023     0_1_6_0_0_0_1_0_0_0_0_0_0_0_2_0_0_1_\n",
       "1488024    5_3_5_1_0_0_0_1_0_0_0_0_0_0_11_1_0_0_\n",
       "1488025     0_1_5_0_0_1_0_0_0_0_0_0_0_0_5_0_0_1_\n",
       "1488026    6_1_5_1_0_0_0_0_1_0_0_0_0_0_13_1_0_0_\n",
       "1488027    7_1_4_1_0_0_0_0_1_0_0_0_0_0_12_1_0_0_\n",
       "Name: mix_ind, Length: 1488028, dtype: object"
      ]
     },
     "execution_count": 8,
     "metadata": {},
     "output_type": "execute_result"
    }
   ],
   "source": [
    "all_data.mix_ind"
   ]
  },
  {
   "cell_type": "code",
   "execution_count": 9,
   "metadata": {},
   "outputs": [
    {
     "name": "stdout",
     "output_type": "stream",
     "text": [
      "['ps_ind_02_cat', 'ps_ind_04_cat', 'ps_ind_05_cat', 'ps_car_01_cat', 'ps_car_02_cat', 'ps_car_03_cat', 'ps_car_04_cat', 'ps_car_05_cat', 'ps_car_06_cat', 'ps_car_07_cat', 'ps_car_08_cat', 'ps_car_09_cat', 'ps_car_10_cat', 'ps_car_11_cat', 'mix_ind']\n"
     ]
    }
   ],
   "source": [
    "cat_features+=['mix_ind']\n",
    "print(cat_features)"
   ]
  },
  {
   "cell_type": "code",
   "execution_count": 10,
   "metadata": {},
   "outputs": [],
   "source": [
    "cat_count_features = []\n",
    "\n",
    "for feature in cat_features:\n",
    "    val_counts_dict = all_data[feature].value_counts().to_dict()\n",
    "    all_data[f'{feature}_count'] = all_data[feature].apply(lambda x:val_counts_dict[x])\n",
    "\n",
    "    cat_count_features.append(f'{feature}_count')"
   ]
  },
  {
   "cell_type": "code",
   "execution_count": 11,
   "metadata": {},
   "outputs": [
    {
     "data": {
      "text/plain": [
       "mix_ind\n",
       "0_2_1_0_0_1_0_0_0_0_0_0_0_0_7_1_0_0_     2992\n",
       "0_1_2_0_0_1_0_0_0_0_0_0_0_0_8_1_0_0_     2784\n",
       "0_1_2_0_0_1_0_0_0_0_0_0_0_0_7_1_0_0_     2568\n",
       "0_1_1_0_0_1_0_0_0_0_0_0_0_0_7_1_0_0_     2174\n",
       "0_2_0_0_0_1_0_0_0_0_0_0_0_0_7_1_0_0_     2131\n",
       "                                         ... \n",
       "0_2_0_0_6_0_0_0_1_0_0_0_0_0_4_0_1_0_        1\n",
       "6_4_7_0_0_0_0_1_0_0_0_0_0_0_7_1_0_0_        1\n",
       "3_4_8_1_2_0_0_0_1_0_0_0_0_0_12_1_0_0_       1\n",
       "5_4_6_1_2_0_1_0_0_0_0_0_0_0_4_1_0_0_        1\n",
       "5_1_8_0_0_0_1_0_0_0_1_0_0_1_3_0_0_1_        1\n",
       "Name: count, Length: 143769, dtype: int64"
      ]
     },
     "execution_count": 11,
     "metadata": {},
     "output_type": "execute_result"
    }
   ],
   "source": [
    "all_data['mix_ind'].value_counts()"
   ]
  },
  {
   "cell_type": "code",
   "execution_count": 12,
   "metadata": {},
   "outputs": [],
   "source": [
    "drop_features = ['ps_ind_14','ps_ind_10_bin','ps_ind_11_bin','ps_ind_12_bin','ps_ind_13_bin','ps_car_14']"
   ]
  },
  {
   "cell_type": "code",
   "execution_count": 13,
   "metadata": {},
   "outputs": [],
   "source": [
    "remaining_features = [feature for feature in all_features if ('cat' not in feature and 'calc' not in feature and feature not in drop_features)]"
   ]
  },
  {
   "cell_type": "code",
   "execution_count": 14,
   "metadata": {
    "scrolled": true
   },
   "outputs": [],
   "source": [
    "all_data_remaining = all_data[remaining_features + cat_count_features]"
   ]
  },
  {
   "cell_type": "code",
   "execution_count": 15,
   "metadata": {},
   "outputs": [
    {
     "data": {
      "text/plain": [
       "Index(['ps_ind_01', 'ps_ind_03', 'ps_ind_06_bin', 'ps_ind_07_bin',\n",
       "       'ps_ind_08_bin', 'ps_ind_09_bin', 'ps_ind_15', 'ps_ind_16_bin',\n",
       "       'ps_ind_17_bin', 'ps_ind_18_bin', 'ps_reg_01', 'ps_reg_02', 'ps_reg_03',\n",
       "       'ps_car_11', 'ps_car_12', 'ps_car_13', 'ps_car_15',\n",
       "       'ps_ind_02_cat_count', 'ps_ind_04_cat_count', 'ps_ind_05_cat_count',\n",
       "       'ps_car_01_cat_count', 'ps_car_02_cat_count', 'ps_car_03_cat_count',\n",
       "       'ps_car_04_cat_count', 'ps_car_05_cat_count', 'ps_car_06_cat_count',\n",
       "       'ps_car_07_cat_count', 'ps_car_08_cat_count', 'ps_car_09_cat_count',\n",
       "       'ps_car_10_cat_count', 'ps_car_11_cat_count', 'mix_ind_count'],\n",
       "      dtype='object')"
      ]
     },
     "execution_count": 15,
     "metadata": {},
     "output_type": "execute_result"
    }
   ],
   "source": [
    "all_data_remaining.columns"
   ]
  },
  {
   "cell_type": "code",
   "execution_count": 16,
   "metadata": {},
   "outputs": [],
   "source": [
    "from scipy import sparse\n",
    "all_data_sprs = sparse.hstack([sparse.csr_matrix(all_data_remaining),encoded_cat_matrix],format='csr')"
   ]
  },
  {
   "cell_type": "code",
   "execution_count": 17,
   "metadata": {},
   "outputs": [
    {
     "data": {
      "text/html": [
       "<div>\n",
       "<style scoped>\n",
       "    .dataframe tbody tr th:only-of-type {\n",
       "        vertical-align: middle;\n",
       "    }\n",
       "\n",
       "    .dataframe tbody tr th {\n",
       "        vertical-align: top;\n",
       "    }\n",
       "\n",
       "    .dataframe thead th {\n",
       "        text-align: right;\n",
       "    }\n",
       "</style>\n",
       "<table border=\"1\" class=\"dataframe\">\n",
       "  <thead>\n",
       "    <tr style=\"text-align: right;\">\n",
       "      <th></th>\n",
       "      <th>ps_ind_01</th>\n",
       "      <th>ps_ind_03</th>\n",
       "      <th>ps_ind_06_bin</th>\n",
       "      <th>ps_ind_07_bin</th>\n",
       "      <th>ps_ind_08_bin</th>\n",
       "      <th>ps_ind_09_bin</th>\n",
       "      <th>ps_ind_15</th>\n",
       "      <th>ps_ind_16_bin</th>\n",
       "      <th>ps_ind_17_bin</th>\n",
       "      <th>ps_ind_18_bin</th>\n",
       "      <th>...</th>\n",
       "      <th>ps_car_03_cat_count</th>\n",
       "      <th>ps_car_04_cat_count</th>\n",
       "      <th>ps_car_05_cat_count</th>\n",
       "      <th>ps_car_06_cat_count</th>\n",
       "      <th>ps_car_07_cat_count</th>\n",
       "      <th>ps_car_08_cat_count</th>\n",
       "      <th>ps_car_09_cat_count</th>\n",
       "      <th>ps_car_10_cat_count</th>\n",
       "      <th>ps_car_11_cat_count</th>\n",
       "      <th>mix_ind_count</th>\n",
       "    </tr>\n",
       "  </thead>\n",
       "  <tbody>\n",
       "    <tr>\n",
       "      <th>0</th>\n",
       "      <td>2</td>\n",
       "      <td>5</td>\n",
       "      <td>0</td>\n",
       "      <td>1</td>\n",
       "      <td>0</td>\n",
       "      <td>0</td>\n",
       "      <td>11</td>\n",
       "      <td>0</td>\n",
       "      <td>1</td>\n",
       "      <td>0</td>\n",
       "      <td>...</td>\n",
       "      <td>1028142</td>\n",
       "      <td>1241334</td>\n",
       "      <td>431560</td>\n",
       "      <td>77845</td>\n",
       "      <td>1383070</td>\n",
       "      <td>249663</td>\n",
       "      <td>486510</td>\n",
       "      <td>1475460</td>\n",
       "      <td>18326</td>\n",
       "      <td>6</td>\n",
       "    </tr>\n",
       "    <tr>\n",
       "      <th>1</th>\n",
       "      <td>1</td>\n",
       "      <td>7</td>\n",
       "      <td>0</td>\n",
       "      <td>0</td>\n",
       "      <td>1</td>\n",
       "      <td>0</td>\n",
       "      <td>3</td>\n",
       "      <td>0</td>\n",
       "      <td>0</td>\n",
       "      <td>1</td>\n",
       "      <td>...</td>\n",
       "      <td>1028142</td>\n",
       "      <td>1241334</td>\n",
       "      <td>666910</td>\n",
       "      <td>329890</td>\n",
       "      <td>1383070</td>\n",
       "      <td>1238365</td>\n",
       "      <td>883326</td>\n",
       "      <td>1475460</td>\n",
       "      <td>12535</td>\n",
       "      <td>36</td>\n",
       "    </tr>\n",
       "    <tr>\n",
       "      <th>2</th>\n",
       "      <td>5</td>\n",
       "      <td>9</td>\n",
       "      <td>0</td>\n",
       "      <td>0</td>\n",
       "      <td>1</td>\n",
       "      <td>0</td>\n",
       "      <td>12</td>\n",
       "      <td>1</td>\n",
       "      <td>0</td>\n",
       "      <td>0</td>\n",
       "      <td>...</td>\n",
       "      <td>1028142</td>\n",
       "      <td>1241334</td>\n",
       "      <td>666910</td>\n",
       "      <td>147714</td>\n",
       "      <td>1383070</td>\n",
       "      <td>1238365</td>\n",
       "      <td>883326</td>\n",
       "      <td>1475460</td>\n",
       "      <td>19943</td>\n",
       "      <td>24</td>\n",
       "    </tr>\n",
       "    <tr>\n",
       "      <th>3</th>\n",
       "      <td>0</td>\n",
       "      <td>2</td>\n",
       "      <td>1</td>\n",
       "      <td>0</td>\n",
       "      <td>0</td>\n",
       "      <td>0</td>\n",
       "      <td>8</td>\n",
       "      <td>1</td>\n",
       "      <td>0</td>\n",
       "      <td>0</td>\n",
       "      <td>...</td>\n",
       "      <td>183044</td>\n",
       "      <td>1241334</td>\n",
       "      <td>431560</td>\n",
       "      <td>329890</td>\n",
       "      <td>1383070</td>\n",
       "      <td>1238365</td>\n",
       "      <td>36798</td>\n",
       "      <td>1475460</td>\n",
       "      <td>212989</td>\n",
       "      <td>2784</td>\n",
       "    </tr>\n",
       "    <tr>\n",
       "      <th>4</th>\n",
       "      <td>0</td>\n",
       "      <td>0</td>\n",
       "      <td>1</td>\n",
       "      <td>0</td>\n",
       "      <td>0</td>\n",
       "      <td>0</td>\n",
       "      <td>9</td>\n",
       "      <td>1</td>\n",
       "      <td>0</td>\n",
       "      <td>0</td>\n",
       "      <td>...</td>\n",
       "      <td>1028142</td>\n",
       "      <td>1241334</td>\n",
       "      <td>666910</td>\n",
       "      <td>147714</td>\n",
       "      <td>1383070</td>\n",
       "      <td>1238365</td>\n",
       "      <td>883326</td>\n",
       "      <td>1475460</td>\n",
       "      <td>26161</td>\n",
       "      <td>258</td>\n",
       "    </tr>\n",
       "    <tr>\n",
       "      <th>...</th>\n",
       "      <td>...</td>\n",
       "      <td>...</td>\n",
       "      <td>...</td>\n",
       "      <td>...</td>\n",
       "      <td>...</td>\n",
       "      <td>...</td>\n",
       "      <td>...</td>\n",
       "      <td>...</td>\n",
       "      <td>...</td>\n",
       "      <td>...</td>\n",
       "      <td>...</td>\n",
       "      <td>...</td>\n",
       "      <td>...</td>\n",
       "      <td>...</td>\n",
       "      <td>...</td>\n",
       "      <td>...</td>\n",
       "      <td>...</td>\n",
       "      <td>...</td>\n",
       "      <td>...</td>\n",
       "      <td>...</td>\n",
       "      <td>...</td>\n",
       "    </tr>\n",
       "    <tr>\n",
       "      <th>1488023</th>\n",
       "      <td>0</td>\n",
       "      <td>6</td>\n",
       "      <td>0</td>\n",
       "      <td>1</td>\n",
       "      <td>0</td>\n",
       "      <td>0</td>\n",
       "      <td>2</td>\n",
       "      <td>0</td>\n",
       "      <td>0</td>\n",
       "      <td>1</td>\n",
       "      <td>...</td>\n",
       "      <td>1028142</td>\n",
       "      <td>51211</td>\n",
       "      <td>389558</td>\n",
       "      <td>147714</td>\n",
       "      <td>76138</td>\n",
       "      <td>1238365</td>\n",
       "      <td>486510</td>\n",
       "      <td>1475460</td>\n",
       "      <td>3066</td>\n",
       "      <td>107</td>\n",
       "    </tr>\n",
       "    <tr>\n",
       "      <th>1488024</th>\n",
       "      <td>5</td>\n",
       "      <td>5</td>\n",
       "      <td>0</td>\n",
       "      <td>0</td>\n",
       "      <td>1</td>\n",
       "      <td>0</td>\n",
       "      <td>11</td>\n",
       "      <td>1</td>\n",
       "      <td>0</td>\n",
       "      <td>0</td>\n",
       "      <td>...</td>\n",
       "      <td>1028142</td>\n",
       "      <td>1241334</td>\n",
       "      <td>389558</td>\n",
       "      <td>83563</td>\n",
       "      <td>1383070</td>\n",
       "      <td>249663</td>\n",
       "      <td>486510</td>\n",
       "      <td>1475460</td>\n",
       "      <td>23506</td>\n",
       "      <td>26</td>\n",
       "    </tr>\n",
       "    <tr>\n",
       "      <th>1488025</th>\n",
       "      <td>0</td>\n",
       "      <td>5</td>\n",
       "      <td>1</td>\n",
       "      <td>0</td>\n",
       "      <td>0</td>\n",
       "      <td>0</td>\n",
       "      <td>5</td>\n",
       "      <td>0</td>\n",
       "      <td>0</td>\n",
       "      <td>1</td>\n",
       "      <td>...</td>\n",
       "      <td>1028142</td>\n",
       "      <td>1241334</td>\n",
       "      <td>666910</td>\n",
       "      <td>329890</td>\n",
       "      <td>1383070</td>\n",
       "      <td>249663</td>\n",
       "      <td>72947</td>\n",
       "      <td>1475460</td>\n",
       "      <td>9725</td>\n",
       "      <td>258</td>\n",
       "    </tr>\n",
       "    <tr>\n",
       "      <th>1488026</th>\n",
       "      <td>6</td>\n",
       "      <td>5</td>\n",
       "      <td>0</td>\n",
       "      <td>0</td>\n",
       "      <td>0</td>\n",
       "      <td>1</td>\n",
       "      <td>13</td>\n",
       "      <td>1</td>\n",
       "      <td>0</td>\n",
       "      <td>0</td>\n",
       "      <td>...</td>\n",
       "      <td>1028142</td>\n",
       "      <td>1241334</td>\n",
       "      <td>431560</td>\n",
       "      <td>83563</td>\n",
       "      <td>1383070</td>\n",
       "      <td>1238365</td>\n",
       "      <td>486510</td>\n",
       "      <td>1475460</td>\n",
       "      <td>31344</td>\n",
       "      <td>37</td>\n",
       "    </tr>\n",
       "    <tr>\n",
       "      <th>1488027</th>\n",
       "      <td>7</td>\n",
       "      <td>4</td>\n",
       "      <td>0</td>\n",
       "      <td>0</td>\n",
       "      <td>0</td>\n",
       "      <td>1</td>\n",
       "      <td>12</td>\n",
       "      <td>1</td>\n",
       "      <td>0</td>\n",
       "      <td>0</td>\n",
       "      <td>...</td>\n",
       "      <td>276842</td>\n",
       "      <td>1241334</td>\n",
       "      <td>389558</td>\n",
       "      <td>77845</td>\n",
       "      <td>1383070</td>\n",
       "      <td>1238365</td>\n",
       "      <td>883326</td>\n",
       "      <td>1475460</td>\n",
       "      <td>15198</td>\n",
       "      <td>67</td>\n",
       "    </tr>\n",
       "  </tbody>\n",
       "</table>\n",
       "<p>1488028 rows × 32 columns</p>\n",
       "</div>"
      ],
      "text/plain": [
       "         ps_ind_01  ps_ind_03  ps_ind_06_bin  ps_ind_07_bin  ps_ind_08_bin  \\\n",
       "0                2          5              0              1              0   \n",
       "1                1          7              0              0              1   \n",
       "2                5          9              0              0              1   \n",
       "3                0          2              1              0              0   \n",
       "4                0          0              1              0              0   \n",
       "...            ...        ...            ...            ...            ...   \n",
       "1488023          0          6              0              1              0   \n",
       "1488024          5          5              0              0              1   \n",
       "1488025          0          5              1              0              0   \n",
       "1488026          6          5              0              0              0   \n",
       "1488027          7          4              0              0              0   \n",
       "\n",
       "         ps_ind_09_bin  ps_ind_15  ps_ind_16_bin  ps_ind_17_bin  \\\n",
       "0                    0         11              0              1   \n",
       "1                    0          3              0              0   \n",
       "2                    0         12              1              0   \n",
       "3                    0          8              1              0   \n",
       "4                    0          9              1              0   \n",
       "...                ...        ...            ...            ...   \n",
       "1488023              0          2              0              0   \n",
       "1488024              0         11              1              0   \n",
       "1488025              0          5              0              0   \n",
       "1488026              1         13              1              0   \n",
       "1488027              1         12              1              0   \n",
       "\n",
       "         ps_ind_18_bin  ...  ps_car_03_cat_count  ps_car_04_cat_count  \\\n",
       "0                    0  ...              1028142              1241334   \n",
       "1                    1  ...              1028142              1241334   \n",
       "2                    0  ...              1028142              1241334   \n",
       "3                    0  ...               183044              1241334   \n",
       "4                    0  ...              1028142              1241334   \n",
       "...                ...  ...                  ...                  ...   \n",
       "1488023              1  ...              1028142                51211   \n",
       "1488024              0  ...              1028142              1241334   \n",
       "1488025              1  ...              1028142              1241334   \n",
       "1488026              0  ...              1028142              1241334   \n",
       "1488027              0  ...               276842              1241334   \n",
       "\n",
       "         ps_car_05_cat_count  ps_car_06_cat_count  ps_car_07_cat_count  \\\n",
       "0                     431560                77845              1383070   \n",
       "1                     666910               329890              1383070   \n",
       "2                     666910               147714              1383070   \n",
       "3                     431560               329890              1383070   \n",
       "4                     666910               147714              1383070   \n",
       "...                      ...                  ...                  ...   \n",
       "1488023               389558               147714                76138   \n",
       "1488024               389558                83563              1383070   \n",
       "1488025               666910               329890              1383070   \n",
       "1488026               431560                83563              1383070   \n",
       "1488027               389558                77845              1383070   \n",
       "\n",
       "         ps_car_08_cat_count  ps_car_09_cat_count  ps_car_10_cat_count  \\\n",
       "0                     249663               486510              1475460   \n",
       "1                    1238365               883326              1475460   \n",
       "2                    1238365               883326              1475460   \n",
       "3                    1238365                36798              1475460   \n",
       "4                    1238365               883326              1475460   \n",
       "...                      ...                  ...                  ...   \n",
       "1488023              1238365               486510              1475460   \n",
       "1488024               249663               486510              1475460   \n",
       "1488025               249663                72947              1475460   \n",
       "1488026              1238365               486510              1475460   \n",
       "1488027              1238365               883326              1475460   \n",
       "\n",
       "         ps_car_11_cat_count  mix_ind_count  \n",
       "0                      18326              6  \n",
       "1                      12535             36  \n",
       "2                      19943             24  \n",
       "3                     212989           2784  \n",
       "4                      26161            258  \n",
       "...                      ...            ...  \n",
       "1488023                 3066            107  \n",
       "1488024                23506             26  \n",
       "1488025                 9725            258  \n",
       "1488026                31344             37  \n",
       "1488027                15198             67  \n",
       "\n",
       "[1488028 rows x 32 columns]"
      ]
     },
     "execution_count": 17,
     "metadata": {},
     "output_type": "execute_result"
    }
   ],
   "source": [
    "all_data_remaining"
   ]
  },
  {
   "cell_type": "code",
   "execution_count": 18,
   "metadata": {},
   "outputs": [],
   "source": [
    "def resumatable(df):\n",
    "    print(f'DataFrame Shape: {df.shape}')\n",
    "    summary = pd.DataFrame(df.dtypes, columns=['Dtype'])\n",
    "    summary['Missing'] = (df == -1).sum().values\n",
    "    summary['Unique'] = df.nunique().values\n",
    "    summary['Dtype'] = None\n",
    "    for col in df.columns:\n",
    "        if 'bin' in col or col =='target':\n",
    "            summary.loc[col,'Dtype'] = 'Binary'\n",
    "        elif 'cat' in col:\n",
    "            summary.loc[col,'Dtype'] = 'Categorical'\n",
    "        elif df[col].dtype == 'float64':\n",
    "            summary.loc[col,'Dtype'] = 'Continuous'\n",
    "        elif df[col].dtype == 'int64':\n",
    "            summary.loc[col,'Dtype'] = 'Ordinal'\n",
    "    return summary"
   ]
  },
  {
   "cell_type": "code",
   "execution_count": 19,
   "metadata": {},
   "outputs": [
    {
     "name": "stdout",
     "output_type": "stream",
     "text": [
      "DataFrame Shape: (1488028, 32)\n"
     ]
    },
    {
     "data": {
      "text/html": [
       "<div>\n",
       "<style scoped>\n",
       "    .dataframe tbody tr th:only-of-type {\n",
       "        vertical-align: middle;\n",
       "    }\n",
       "\n",
       "    .dataframe tbody tr th {\n",
       "        vertical-align: top;\n",
       "    }\n",
       "\n",
       "    .dataframe thead th {\n",
       "        text-align: right;\n",
       "    }\n",
       "</style>\n",
       "<table border=\"1\" class=\"dataframe\">\n",
       "  <thead>\n",
       "    <tr style=\"text-align: right;\">\n",
       "      <th></th>\n",
       "      <th>Dtype</th>\n",
       "      <th>Missing</th>\n",
       "      <th>Unique</th>\n",
       "    </tr>\n",
       "  </thead>\n",
       "  <tbody>\n",
       "    <tr>\n",
       "      <th>ps_ind_01</th>\n",
       "      <td>Ordinal</td>\n",
       "      <td>0</td>\n",
       "      <td>8</td>\n",
       "    </tr>\n",
       "    <tr>\n",
       "      <th>ps_ind_03</th>\n",
       "      <td>Ordinal</td>\n",
       "      <td>0</td>\n",
       "      <td>12</td>\n",
       "    </tr>\n",
       "    <tr>\n",
       "      <th>ps_ind_06_bin</th>\n",
       "      <td>Binary</td>\n",
       "      <td>0</td>\n",
       "      <td>2</td>\n",
       "    </tr>\n",
       "    <tr>\n",
       "      <th>ps_ind_07_bin</th>\n",
       "      <td>Binary</td>\n",
       "      <td>0</td>\n",
       "      <td>2</td>\n",
       "    </tr>\n",
       "    <tr>\n",
       "      <th>ps_ind_08_bin</th>\n",
       "      <td>Binary</td>\n",
       "      <td>0</td>\n",
       "      <td>2</td>\n",
       "    </tr>\n",
       "    <tr>\n",
       "      <th>ps_ind_09_bin</th>\n",
       "      <td>Binary</td>\n",
       "      <td>0</td>\n",
       "      <td>2</td>\n",
       "    </tr>\n",
       "    <tr>\n",
       "      <th>ps_ind_15</th>\n",
       "      <td>Ordinal</td>\n",
       "      <td>0</td>\n",
       "      <td>14</td>\n",
       "    </tr>\n",
       "    <tr>\n",
       "      <th>ps_ind_16_bin</th>\n",
       "      <td>Binary</td>\n",
       "      <td>0</td>\n",
       "      <td>2</td>\n",
       "    </tr>\n",
       "    <tr>\n",
       "      <th>ps_ind_17_bin</th>\n",
       "      <td>Binary</td>\n",
       "      <td>0</td>\n",
       "      <td>2</td>\n",
       "    </tr>\n",
       "    <tr>\n",
       "      <th>ps_ind_18_bin</th>\n",
       "      <td>Binary</td>\n",
       "      <td>0</td>\n",
       "      <td>2</td>\n",
       "    </tr>\n",
       "    <tr>\n",
       "      <th>ps_reg_01</th>\n",
       "      <td>Continuous</td>\n",
       "      <td>0</td>\n",
       "      <td>10</td>\n",
       "    </tr>\n",
       "    <tr>\n",
       "      <th>ps_reg_02</th>\n",
       "      <td>Continuous</td>\n",
       "      <td>0</td>\n",
       "      <td>19</td>\n",
       "    </tr>\n",
       "    <tr>\n",
       "      <th>ps_reg_03</th>\n",
       "      <td>Continuous</td>\n",
       "      <td>269456</td>\n",
       "      <td>5077</td>\n",
       "    </tr>\n",
       "    <tr>\n",
       "      <th>ps_car_11</th>\n",
       "      <td>Ordinal</td>\n",
       "      <td>6</td>\n",
       "      <td>5</td>\n",
       "    </tr>\n",
       "    <tr>\n",
       "      <th>ps_car_12</th>\n",
       "      <td>Continuous</td>\n",
       "      <td>1</td>\n",
       "      <td>214</td>\n",
       "    </tr>\n",
       "    <tr>\n",
       "      <th>ps_car_13</th>\n",
       "      <td>Continuous</td>\n",
       "      <td>0</td>\n",
       "      <td>104192</td>\n",
       "    </tr>\n",
       "    <tr>\n",
       "      <th>ps_car_15</th>\n",
       "      <td>Continuous</td>\n",
       "      <td>0</td>\n",
       "      <td>15</td>\n",
       "    </tr>\n",
       "    <tr>\n",
       "      <th>ps_ind_02_cat_count</th>\n",
       "      <td>Categorical</td>\n",
       "      <td>0</td>\n",
       "      <td>5</td>\n",
       "    </tr>\n",
       "    <tr>\n",
       "      <th>ps_ind_04_cat_count</th>\n",
       "      <td>Categorical</td>\n",
       "      <td>0</td>\n",
       "      <td>3</td>\n",
       "    </tr>\n",
       "    <tr>\n",
       "      <th>ps_ind_05_cat_count</th>\n",
       "      <td>Categorical</td>\n",
       "      <td>0</td>\n",
       "      <td>8</td>\n",
       "    </tr>\n",
       "    <tr>\n",
       "      <th>ps_car_01_cat_count</th>\n",
       "      <td>Categorical</td>\n",
       "      <td>0</td>\n",
       "      <td>13</td>\n",
       "    </tr>\n",
       "    <tr>\n",
       "      <th>ps_car_02_cat_count</th>\n",
       "      <td>Categorical</td>\n",
       "      <td>0</td>\n",
       "      <td>3</td>\n",
       "    </tr>\n",
       "    <tr>\n",
       "      <th>ps_car_03_cat_count</th>\n",
       "      <td>Categorical</td>\n",
       "      <td>0</td>\n",
       "      <td>3</td>\n",
       "    </tr>\n",
       "    <tr>\n",
       "      <th>ps_car_04_cat_count</th>\n",
       "      <td>Categorical</td>\n",
       "      <td>0</td>\n",
       "      <td>10</td>\n",
       "    </tr>\n",
       "    <tr>\n",
       "      <th>ps_car_05_cat_count</th>\n",
       "      <td>Categorical</td>\n",
       "      <td>0</td>\n",
       "      <td>3</td>\n",
       "    </tr>\n",
       "    <tr>\n",
       "      <th>ps_car_06_cat_count</th>\n",
       "      <td>Categorical</td>\n",
       "      <td>0</td>\n",
       "      <td>18</td>\n",
       "    </tr>\n",
       "    <tr>\n",
       "      <th>ps_car_07_cat_count</th>\n",
       "      <td>Categorical</td>\n",
       "      <td>0</td>\n",
       "      <td>3</td>\n",
       "    </tr>\n",
       "    <tr>\n",
       "      <th>ps_car_08_cat_count</th>\n",
       "      <td>Categorical</td>\n",
       "      <td>0</td>\n",
       "      <td>2</td>\n",
       "    </tr>\n",
       "    <tr>\n",
       "      <th>ps_car_09_cat_count</th>\n",
       "      <td>Categorical</td>\n",
       "      <td>0</td>\n",
       "      <td>6</td>\n",
       "    </tr>\n",
       "    <tr>\n",
       "      <th>ps_car_10_cat_count</th>\n",
       "      <td>Categorical</td>\n",
       "      <td>0</td>\n",
       "      <td>3</td>\n",
       "    </tr>\n",
       "    <tr>\n",
       "      <th>ps_car_11_cat_count</th>\n",
       "      <td>Categorical</td>\n",
       "      <td>0</td>\n",
       "      <td>102</td>\n",
       "    </tr>\n",
       "    <tr>\n",
       "      <th>mix_ind_count</th>\n",
       "      <td>Ordinal</td>\n",
       "      <td>0</td>\n",
       "      <td>643</td>\n",
       "    </tr>\n",
       "  </tbody>\n",
       "</table>\n",
       "</div>"
      ],
      "text/plain": [
       "                           Dtype  Missing  Unique\n",
       "ps_ind_01                Ordinal        0       8\n",
       "ps_ind_03                Ordinal        0      12\n",
       "ps_ind_06_bin             Binary        0       2\n",
       "ps_ind_07_bin             Binary        0       2\n",
       "ps_ind_08_bin             Binary        0       2\n",
       "ps_ind_09_bin             Binary        0       2\n",
       "ps_ind_15                Ordinal        0      14\n",
       "ps_ind_16_bin             Binary        0       2\n",
       "ps_ind_17_bin             Binary        0       2\n",
       "ps_ind_18_bin             Binary        0       2\n",
       "ps_reg_01             Continuous        0      10\n",
       "ps_reg_02             Continuous        0      19\n",
       "ps_reg_03             Continuous   269456    5077\n",
       "ps_car_11                Ordinal        6       5\n",
       "ps_car_12             Continuous        1     214\n",
       "ps_car_13             Continuous        0  104192\n",
       "ps_car_15             Continuous        0      15\n",
       "ps_ind_02_cat_count  Categorical        0       5\n",
       "ps_ind_04_cat_count  Categorical        0       3\n",
       "ps_ind_05_cat_count  Categorical        0       8\n",
       "ps_car_01_cat_count  Categorical        0      13\n",
       "ps_car_02_cat_count  Categorical        0       3\n",
       "ps_car_03_cat_count  Categorical        0       3\n",
       "ps_car_04_cat_count  Categorical        0      10\n",
       "ps_car_05_cat_count  Categorical        0       3\n",
       "ps_car_06_cat_count  Categorical        0      18\n",
       "ps_car_07_cat_count  Categorical        0       3\n",
       "ps_car_08_cat_count  Categorical        0       2\n",
       "ps_car_09_cat_count  Categorical        0       6\n",
       "ps_car_10_cat_count  Categorical        0       3\n",
       "ps_car_11_cat_count  Categorical        0     102\n",
       "mix_ind_count            Ordinal        0     643"
      ]
     },
     "execution_count": 19,
     "metadata": {},
     "output_type": "execute_result"
    }
   ],
   "source": [
    "all_df = resumatable(all_data_remaining)\n",
    "all_df"
   ]
  },
  {
   "cell_type": "code",
   "execution_count": 49,
   "metadata": {},
   "outputs": [],
   "source": [
    "num_train = len(train)\n",
    "\n",
    "X = all_data_sprs[:num_train]\n",
    "X_test = all_data_sprs[num_train:]\n",
    "\n",
    "y = train['target'].values"
   ]
  },
  {
   "cell_type": "code",
   "execution_count": 21,
   "metadata": {},
   "outputs": [
    {
     "data": {
      "text/plain": [
       "(595212, (595212, 216))"
      ]
     },
     "execution_count": 21,
     "metadata": {},
     "output_type": "execute_result"
    }
   ],
   "source": [
    "len(y) , X.shape"
   ]
  },
  {
   "cell_type": "code",
   "execution_count": 22,
   "metadata": {},
   "outputs": [],
   "source": [
    "import numpy as np\n",
    "def eval_gini(y_true, y_pred):\n",
    "    assert y_true.shape == y_pred.shape\n",
    "\n",
    "    n_samples = y_true.shape[0]\n",
    "    L_mid = np.linspace(1/n_samples, 1, n_samples)\n",
    "\n",
    "    pred_order = y_true[y_pred.argsort()]\n",
    "    true_order = y_true[y_true.argsort()]\n",
    "    \n",
    "    L_pred = np.cumsum(pred_order)/np.sum(true_order)\n",
    "    G_pred = np.sum(L_mid - L_pred)\n",
    "    \n",
    "    \n",
    "    L_true = np.cumsum(true_order)/np.sum(true_order)\n",
    "    G_true = np.sum(L_mid - L_true)\n",
    "\n",
    "    #Normalized Gini coefficient\n",
    "    return G_pred/G_true"
   ]
  },
  {
   "cell_type": "code",
   "execution_count": 23,
   "metadata": {},
   "outputs": [],
   "source": [
    "#gini for LGBM\n",
    "def gini(preds,dtrain):\n",
    "    labels = dtrain.get_label()\n",
    "    return 'gini', eval_gini(labels,preds), True"
   ]
  },
  {
   "cell_type": "markdown",
   "metadata": {},
   "source": [
    "#optimize hyperparameters"
   ]
  },
  {
   "cell_type": "code",
   "execution_count": 24,
   "metadata": {},
   "outputs": [],
   "source": [
    "import lightgbm as lgb\n",
    "from sklearn.model_selection import train_test_split\n",
    "\n",
    "X_train, X_valid, y_train, y_valid = train_test_split(X,y,test_size=0.2,random_state = 0)\n",
    "train_bayes = lgb.Dataset(X_train,y_train)\n",
    "valid_bayes = lgb.Dataset(X_valid,y_valid)"
   ]
  },
  {
   "cell_type": "code",
   "execution_count": 36,
   "metadata": {},
   "outputs": [],
   "source": [
    "#hyperparameter bounding for bayesian optimizer\n",
    "param_bounds = {\n",
    "    'num_leaves':(30,40),\n",
    "    'lambda_l1':(0.7,0.9),\n",
    "    'lambda_l2':(0.9,1),\n",
    "    'feature_fraction':(0.6,0.7),\n",
    "    'bagging_fraction':(0.6,0.9),\n",
    "    'min_child_samples':(6,10),\n",
    "    'min_child_weight':(10,40)\n",
    "}\n",
    "\n",
    "#fixed parameters\n",
    "fixed_params = {    \n",
    "    'objective':'binary',\n",
    "    'learning_rate':0.005,\n",
    "    'bagging_freq':1,\n",
    "    'force_row_wise':True,\n",
    "    'random_state':1991,\n",
    "    'verbose':100\n",
    "}"
   ]
  },
  {
   "cell_type": "code",
   "execution_count": 26,
   "metadata": {},
   "outputs": [],
   "source": [
    "def eval_function(num_leaves,lambda_l1,lambda_l2,feature_fraction,bagging_fraction,min_child_samples,min_child_weight):\n",
    "    params = {'num_leaves':int(round(num_leaves)),\n",
    "              'lambda_l1':lambda_l1,\n",
    "              'lambda_l2':lambda_l2,\n",
    "              'feature_fraction':feature_fraction,\n",
    "              'bagging_fraction':bagging_fraction,\n",
    "              'min_child_samples':int(round(min_child_samples)),\n",
    "              'min_child_weight':min_child_weight,\n",
    "              'feature_pre_filter':False}\n",
    "    params.update(fixed_params)\n",
    "\n",
    "    print('hyperparameter : ',params)\n",
    "\n",
    "    lgb_model = lgb.train(\n",
    "        params=params,\n",
    "        train_set=train_bayes,\n",
    "        num_boost_round=2500,\n",
    "        valid_sets=valid_bayes,\n",
    "        feval = gini,\n",
    "        callbacks=[lgb.early_stopping(300)]\n",
    "    )\n",
    "\n",
    "    preds = lgb_model.predict(X_valid)\n",
    "\n",
    "    gini_score = eval_gini(y_valid,preds)\n",
    "    print('gini Score : ',gini_score)\n",
    "\n",
    "    return gini_score    "
   ]
  },
  {
   "cell_type": "code",
   "execution_count": 27,
   "metadata": {},
   "outputs": [],
   "source": [
    "from bayes_opt import BayesianOptimization\n",
    "\n",
    "optimizer = BayesianOptimization(f=eval_function,\n",
    "                                pbounds=param_bounds,\n",
    "                                random_state=0)"
   ]
  },
  {
   "cell_type": "code",
   "execution_count": 28,
   "metadata": {
    "collapsed": true,
    "jupyter": {
     "outputs_hidden": true
    },
    "scrolled": true
   },
   "outputs": [
    {
     "name": "stdout",
     "output_type": "stream",
     "text": [
      "|   iter    |  target   | baggin... | featur... | lambda_l1 | lambda_l2 | min_ch... | min_ch... | num_le... |\n",
      "-------------------------------------------------------------------------------------------------------------\n",
      "hyperparameter :  {'num_leaves': 34, 'lambda_l1': 0.8205526752143287, 'lambda_l2': 0.9544883182996897, 'feature_fraction': 0.6715189366372419, 'bagging_fraction': 0.7646440511781974, 'min_child_samples': 8, 'min_child_weight': 29.376823391999682, 'feature_pre_filter': False, 'objective': 'binary', 'learning_rate': 0.005, 'bagging_freq': 1, 'force_row_wise': True, 'random_state': 1991}\n",
      "[LightGBM] [Info] Number of positive: 17383, number of negative: 458786\n",
      "[LightGBM] [Info] Total Bins 1547\n",
      "[LightGBM] [Info] Number of data points in the train set: 476169, number of used features: 216\n",
      "[LightGBM] [Info] [binary:BoostFromScore]: pavg=0.036506 -> initscore=-3.273091\n",
      "[LightGBM] [Info] Start training from score -3.273091\n",
      "Training until validation scores don't improve for 300 rounds\n",
      "Early stopping, best iteration is:\n",
      "[1847]\tvalid_0's binary_logloss: 0.15095\tvalid_0's gini: 0.284695\n",
      "gini Score :  0.2846948890516193\n",
      "| \u001b[39m1        \u001b[39m | \u001b[39m0.2847   \u001b[39m | \u001b[39m0.7646   \u001b[39m | \u001b[39m0.6715   \u001b[39m | \u001b[39m0.8206   \u001b[39m | \u001b[39m0.9545   \u001b[39m | \u001b[39m7.695    \u001b[39m | \u001b[39m29.38    \u001b[39m | \u001b[39m34.38    \u001b[39m |\n",
      "hyperparameter :  {'num_leaves': 39, 'lambda_l1': 0.7766883037651555, 'lambda_l2': 0.9791725038082665, 'feature_fraction': 0.6963662760501029, 'bagging_fraction': 0.867531900234624, 'min_child_samples': 8, 'min_child_weight': 27.04133683281797, 'feature_pre_filter': False, 'objective': 'binary', 'learning_rate': 0.005, 'bagging_freq': 1, 'force_row_wise': True, 'random_state': 1991}\n",
      "[LightGBM] [Info] Number of positive: 17383, number of negative: 458786\n",
      "[LightGBM] [Info] Total Bins 1547\n",
      "[LightGBM] [Info] Number of data points in the train set: 476169, number of used features: 216\n",
      "[LightGBM] [Info] [binary:BoostFromScore]: pavg=0.036506 -> initscore=-3.273091\n",
      "[LightGBM] [Info] Start training from score -3.273091\n",
      "Training until validation scores don't improve for 300 rounds\n",
      "Early stopping, best iteration is:\n",
      "[1935]\tvalid_0's binary_logloss: 0.150959\tvalid_0's gini: 0.284452\n",
      "gini Score :  0.28445216835356063\n",
      "| \u001b[39m2        \u001b[39m | \u001b[39m0.2845   \u001b[39m | \u001b[39m0.8675   \u001b[39m | \u001b[39m0.6964   \u001b[39m | \u001b[39m0.7767   \u001b[39m | \u001b[39m0.9792   \u001b[39m | \u001b[39m8.116    \u001b[39m | \u001b[39m27.04    \u001b[39m | \u001b[39m39.26    \u001b[39m |\n",
      "hyperparameter :  {'num_leaves': 40, 'lambda_l1': 0.7040436794880651, 'lambda_l2': 0.9832619845547939, 'feature_fraction': 0.608712929970154, 'bagging_fraction': 0.6213108174593661, 'min_child_samples': 9, 'min_child_weight': 36.10036444740457, 'feature_pre_filter': False, 'objective': 'binary', 'learning_rate': 0.005, 'bagging_freq': 1, 'force_row_wise': True, 'random_state': 1991}\n",
      "[LightGBM] [Info] Number of positive: 17383, number of negative: 458786\n",
      "[LightGBM] [Info] Total Bins 1547\n",
      "[LightGBM] [Info] Number of data points in the train set: 476169, number of used features: 216\n",
      "[LightGBM] [Info] [binary:BoostFromScore]: pavg=0.036506 -> initscore=-3.273091\n",
      "[LightGBM] [Info] Start training from score -3.273091\n",
      "Training until validation scores don't improve for 300 rounds\n",
      "Early stopping, best iteration is:\n",
      "[1703]\tvalid_0's binary_logloss: 0.150949\tvalid_0's gini: 0.285315\n",
      "gini Score :  0.28531519639653136\n",
      "| \u001b[35m3        \u001b[39m | \u001b[35m0.2853   \u001b[39m | \u001b[35m0.6213   \u001b[39m | \u001b[35m0.6087   \u001b[39m | \u001b[35m0.704    \u001b[39m | \u001b[35m0.9833   \u001b[39m | \u001b[35m9.113    \u001b[39m | \u001b[35m36.1     \u001b[39m | \u001b[35m39.79    \u001b[39m |\n",
      "hyperparameter :  {'num_leaves': 40, 'lambda_l1': 0.7916466541522503, 'lambda_l2': 0.9730690455162145, 'feature_fraction': 0.6621422786612308, 'bagging_fraction': 0.8892818808575982, 'min_child_samples': 8, 'min_child_weight': 39.08404679639902, 'feature_pre_filter': False, 'objective': 'binary', 'learning_rate': 0.005, 'bagging_freq': 1, 'force_row_wise': True, 'random_state': 1991}\n",
      "[LightGBM] [Info] Number of positive: 17383, number of negative: 458786\n",
      "[LightGBM] [Info] Total Bins 1547\n",
      "[LightGBM] [Info] Number of data points in the train set: 476169, number of used features: 216\n",
      "[LightGBM] [Info] [binary:BoostFromScore]: pavg=0.036506 -> initscore=-3.273091\n",
      "[LightGBM] [Info] Start training from score -3.273091\n",
      "Training until validation scores don't improve for 300 rounds\n",
      "Early stopping, best iteration is:\n",
      "[1796]\tvalid_0's binary_logloss: 0.150955\tvalid_0's gini: 0.284569\n",
      "gini Score :  0.2845693597584708\n",
      "| \u001b[39m4        \u001b[39m | \u001b[39m0.2846   \u001b[39m | \u001b[39m0.8893   \u001b[39m | \u001b[39m0.6621   \u001b[39m | \u001b[39m0.7916   \u001b[39m | \u001b[39m0.9731   \u001b[39m | \u001b[39m8.5      \u001b[39m | \u001b[39m39.08    \u001b[39m | \u001b[39m39.55    \u001b[39m |\n",
      "hyperparameter :  {'num_leaves': 37, 'lambda_l1': 0.7738449330497988, 'lambda_l2': 0.9032695189818599, 'feature_fraction': 0.6606341064409726, 'bagging_fraction': 0.7666713964943057, 'min_child_samples': 9, 'min_child_weight': 29.306172421380474, 'feature_pre_filter': False, 'objective': 'binary', 'learning_rate': 0.005, 'bagging_freq': 1, 'force_row_wise': True, 'random_state': 1991}\n",
      "[LightGBM] [Info] Number of positive: 17383, number of negative: 458786\n",
      "[LightGBM] [Info] Total Bins 1547\n",
      "[LightGBM] [Info] Number of data points in the train set: 476169, number of used features: 216\n",
      "[LightGBM] [Info] [binary:BoostFromScore]: pavg=0.036506 -> initscore=-3.273091\n",
      "[LightGBM] [Info] Start training from score -3.273091\n",
      "Training until validation scores don't improve for 300 rounds\n",
      "Early stopping, best iteration is:\n",
      "[2041]\tvalid_0's binary_logloss: 0.150954\tvalid_0's gini: 0.284958\n",
      "gini Score :  0.2849581997239311\n",
      "| \u001b[39m5        \u001b[39m | \u001b[39m0.285    \u001b[39m | \u001b[39m0.7667   \u001b[39m | \u001b[39m0.6606   \u001b[39m | \u001b[39m0.7738   \u001b[39m | \u001b[39m0.9033   \u001b[39m | \u001b[39m8.769    \u001b[39m | \u001b[39m29.31    \u001b[39m | \u001b[39m36.6     \u001b[39m |\n",
      "hyperparameter :  {'num_leaves': 40, 'lambda_l1': 0.7113567244294035, 'lambda_l2': 0.9992148463611682, 'feature_fraction': 0.6823972673568225, 'bagging_fraction': 0.6452323984860321, 'min_child_samples': 9, 'min_child_weight': 36.23198396337493, 'feature_pre_filter': False, 'objective': 'binary', 'learning_rate': 0.005, 'bagging_freq': 1, 'force_row_wise': True, 'random_state': 1991}\n",
      "[LightGBM] [Info] Number of positive: 17383, number of negative: 458786\n",
      "[LightGBM] [Info] Total Bins 1547\n",
      "[LightGBM] [Info] Number of data points in the train set: 476169, number of used features: 216\n",
      "[LightGBM] [Info] [binary:BoostFromScore]: pavg=0.036506 -> initscore=-3.273091\n",
      "[LightGBM] [Info] Start training from score -3.273091\n",
      "Training until validation scores don't improve for 300 rounds\n",
      "Early stopping, best iteration is:\n",
      "[1794]\tvalid_0's binary_logloss: 0.150956\tvalid_0's gini: 0.284917\n",
      "gini Score :  0.2849172300422476\n",
      "| \u001b[39m6        \u001b[39m | \u001b[39m0.2849   \u001b[39m | \u001b[39m0.6452   \u001b[39m | \u001b[39m0.6824   \u001b[39m | \u001b[39m0.7114   \u001b[39m | \u001b[39m0.9992   \u001b[39m | \u001b[39m9.083    \u001b[39m | \u001b[39m36.23    \u001b[39m | \u001b[39m39.59    \u001b[39m |\n",
      "hyperparameter :  {'num_leaves': 36, 'lambda_l1': 0.862092450221885, 'lambda_l2': 0.900511488097541, 'feature_fraction': 0.6556247435580953, 'bagging_fraction': 0.7236613926476847, 'min_child_samples': 8, 'min_child_weight': 16.800997543304433, 'feature_pre_filter': False, 'objective': 'binary', 'learning_rate': 0.005, 'bagging_freq': 1, 'force_row_wise': True, 'random_state': 1991}\n",
      "[LightGBM] [Info] Number of positive: 17383, number of negative: 458786\n",
      "[LightGBM] [Info] Total Bins 1547\n",
      "[LightGBM] [Info] Number of data points in the train set: 476169, number of used features: 216\n",
      "[LightGBM] [Info] [binary:BoostFromScore]: pavg=0.036506 -> initscore=-3.273091\n",
      "[LightGBM] [Info] Start training from score -3.273091\n",
      "Training until validation scores don't improve for 300 rounds\n",
      "Did not meet early stopping. Best iteration is:\n",
      "[2317]\tvalid_0's binary_logloss: 0.150969\tvalid_0's gini: 0.284198\n",
      "gini Score :  0.28419803259318527\n",
      "| \u001b[39m7        \u001b[39m | \u001b[39m0.2842   \u001b[39m | \u001b[39m0.7237   \u001b[39m | \u001b[39m0.6556   \u001b[39m | \u001b[39m0.8621   \u001b[39m | \u001b[39m0.9005   \u001b[39m | \u001b[39m8.223    \u001b[39m | \u001b[39m16.8     \u001b[39m | \u001b[39m36.38    \u001b[39m |\n",
      "hyperparameter :  {'num_leaves': 37, 'lambda_l1': 0.7587502056850454, 'lambda_l2': 0.9797829350356843, 'feature_fraction': 0.6954342923283758, 'bagging_fraction': 0.7409016193163251, 'min_child_samples': 9, 'min_child_weight': 29.079243263548527, 'feature_pre_filter': False, 'objective': 'binary', 'learning_rate': 0.005, 'bagging_freq': 1, 'force_row_wise': True, 'random_state': 1991}\n",
      "[LightGBM] [Info] Number of positive: 17383, number of negative: 458786\n",
      "[LightGBM] [Info] Total Bins 1547\n",
      "[LightGBM] [Info] Number of data points in the train set: 476169, number of used features: 216\n",
      "[LightGBM] [Info] [binary:BoostFromScore]: pavg=0.036506 -> initscore=-3.273091\n",
      "[LightGBM] [Info] Start training from score -3.273091\n",
      "Training until validation scores don't improve for 300 rounds\n",
      "Early stopping, best iteration is:\n",
      "[1863]\tvalid_0's binary_logloss: 0.150942\tvalid_0's gini: 0.285284\n",
      "gini Score :  0.28528403647084516\n",
      "| \u001b[39m8        \u001b[39m | \u001b[39m0.2853   \u001b[39m | \u001b[39m0.7409   \u001b[39m | \u001b[39m0.6954   \u001b[39m | \u001b[39m0.7588   \u001b[39m | \u001b[39m0.9798   \u001b[39m | \u001b[39m8.676    \u001b[39m | \u001b[39m29.08    \u001b[39m | \u001b[39m36.63    \u001b[39m |\n",
      "hyperparameter :  {'num_leaves': 40, 'lambda_l1': 0.8106236134604519, 'lambda_l2': 0.9370945684067623, 'feature_fraction': 0.6559186416905237, 'bagging_fraction': 0.8600135386288141, 'min_child_samples': 9, 'min_child_weight': 35.95851354029547, 'feature_pre_filter': False, 'objective': 'binary', 'learning_rate': 0.005, 'bagging_freq': 1, 'force_row_wise': True, 'random_state': 1991}\n",
      "[LightGBM] [Info] Number of positive: 17383, number of negative: 458786\n",
      "[LightGBM] [Info] Total Bins 1547\n",
      "[LightGBM] [Info] Number of data points in the train set: 476169, number of used features: 216\n",
      "[LightGBM] [Info] [binary:BoostFromScore]: pavg=0.036506 -> initscore=-3.273091\n",
      "[LightGBM] [Info] Start training from score -3.273091\n",
      "Training until validation scores don't improve for 300 rounds\n",
      "Did not meet early stopping. Best iteration is:\n",
      "[2203]\tvalid_0's binary_logloss: 0.150958\tvalid_0's gini: 0.285178\n",
      "gini Score :  0.2851782560846589\n",
      "| \u001b[39m9        \u001b[39m | \u001b[39m0.2852   \u001b[39m | \u001b[39m0.86     \u001b[39m | \u001b[39m0.6559   \u001b[39m | \u001b[39m0.8106   \u001b[39m | \u001b[39m0.9371   \u001b[39m | \u001b[39m9.021    \u001b[39m | \u001b[39m35.96    \u001b[39m | \u001b[39m39.98    \u001b[39m |\n",
      "=============================================================================================================\n"
     ]
    }
   ],
   "source": [
    "optimizer.maximize(init_points=3,n_iter=6)"
   ]
  },
  {
   "cell_type": "code",
   "execution_count": 29,
   "metadata": {},
   "outputs": [],
   "source": [
    "max_params = optimizer.max['params']"
   ]
  },
  {
   "cell_type": "code",
   "execution_count": 30,
   "metadata": {},
   "outputs": [],
   "source": [
    "max_params['num_leaves'],max_params['min_child_samples'] = int(round(max_params['num_leaves'])),int(round(max_params['min_child_samples']))"
   ]
  },
  {
   "cell_type": "code",
   "execution_count": 31,
   "metadata": {},
   "outputs": [],
   "source": [
    "max_params.update(fixed_params)"
   ]
  },
  {
   "cell_type": "code",
   "execution_count": 32,
   "metadata": {},
   "outputs": [
    {
     "data": {
      "text/plain": [
       "{'bagging_fraction': 0.6213108174593661,\n",
       " 'feature_fraction': 0.608712929970154,\n",
       " 'lambda_l1': 0.7040436794880651,\n",
       " 'lambda_l2': 0.9832619845547939,\n",
       " 'min_child_samples': 9,\n",
       " 'min_child_weight': 36.10036444740457,\n",
       " 'num_leaves': 40,\n",
       " 'objective': 'binary',\n",
       " 'learning_rate': 0.005,\n",
       " 'bagging_freq': 1,\n",
       " 'force_row_wise': True,\n",
       " 'random_state': 1991}"
      ]
     },
     "execution_count": 32,
     "metadata": {},
     "output_type": "execute_result"
    }
   ],
   "source": [
    "max_params"
   ]
  },
  {
   "cell_type": "code",
   "execution_count": 47,
   "metadata": {},
   "outputs": [
    {
     "data": {
      "text/plain": [
       "(<Compressed Sparse Row sparse matrix of dtype 'float64'\n",
       " \twith 23979130 stored elements and shape (595212, 216)>,\n",
       " 0.036447517859182946)"
      ]
     },
     "execution_count": 47,
     "metadata": {},
     "output_type": "execute_result"
    }
   ],
   "source": [
    "X, y.sum()/X.shape[0]"
   ]
  },
  {
   "cell_type": "code",
   "execution_count": null,
   "metadata": {},
   "outputs": [
    {
     "name": "stdout",
     "output_type": "stream",
     "text": [
      "---------------------------------------- fold 1/5 ########################################\n",
      "[LightGBM] [Info] Number of positive: 17355, number of negative: 458814\n",
      "[LightGBM] [Info] Total Bins 1546\n",
      "[LightGBM] [Info] Number of data points in the train set: 476169, number of used features: 215\n",
      "[LightGBM] [Info] [binary:BoostFromScore]: pavg=0.036447 -> initscore=-3.274764\n",
      "[LightGBM] [Info] Start training from score -3.274764\n",
      "Training until validation scores don't improve for 300 rounds\n",
      "Early stopping, best iteration is:\n",
      "[1978]\tvalid_0's binary_logloss: 0.151358\tvalid_0's gini: 0.298659\n",
      "fold 1 gini score : 0.2986594054238097\n",
      "\n",
      "---------------------------------------- fold 2/5 ########################################\n",
      "[LightGBM] [Info] Number of positive: 17355, number of negative: 458814\n",
      "[LightGBM] [Info] Total Bins 1552\n",
      "[LightGBM] [Info] Number of data points in the train set: 476169, number of used features: 215\n",
      "[LightGBM] [Info] [binary:BoostFromScore]: pavg=0.036447 -> initscore=-3.274764\n",
      "[LightGBM] [Info] Start training from score -3.274764\n",
      "Training until validation scores don't improve for 300 rounds\n"
     ]
    }
   ],
   "source": [
    "from sklearn.model_selection import StratifiedKFold\n",
    "\n",
    "#stratified k fold\n",
    "folds = StratifiedKFold(n_splits=5, shuffle=True, random_state=1991)\n",
    "\n",
    "oof_val_preds = np.zeros(X.shape[0])\n",
    "oof_test_preds = np.zeros(X_test.shape[0])\n",
    "\n",
    "for idx,(train_idx,valid_idx) in enumerate(folds.split(X,y)):\n",
    "    print('-'*40,f'fold {idx+1}/{folds.n_splits}','#'*40)\n",
    "\n",
    "    X_train,y_train = X[train_idx],y[train_idx]\n",
    "    X_valid,y_valid = X[valid_idx],y[valid_idx]    \n",
    "    \n",
    "    dtrain = lgb.Dataset(X_train,y_train)\n",
    "    dvalid = lgb.Dataset(X_valid,y_valid)\n",
    "\n",
    "    lgb_model = lgb.train(params = max_params,\n",
    "                train_set = dtrain,\n",
    "                num_boost_round=2500,\n",
    "                valid_sets= dvalid,\n",
    "                feval=gini,\n",
    "                callbacks=[lgb.early_stopping(300)])\n",
    "    \n",
    "    oof_test_preds += lgb_model.predict(X_test)/folds.n_splits\n",
    "\n",
    "    oof_val_preds[valid_idx] += lgb_model.predict(X_valid)\n",
    "    \n",
    "    \n",
    "    gini_score = eval_gini(y_valid, oof_val_preds[valid_idx])\n",
    "    print(f'fold {idx+1} gini score : {gini_score}\\n')"
   ]
  },
  {
   "cell_type": "code",
   "execution_count": null,
   "metadata": {},
   "outputs": [],
   "source": [
    "print('oof gini score : ', eval_gini(y,oof_val_preds))"
   ]
  },
  {
   "cell_type": "code",
   "execution_count": null,
   "metadata": {},
   "outputs": [],
   "source": [
    "submission['target'] = oof_test_preds\n",
    "submission.to_csv('submission.csv')"
   ]
  }
 ],
 "metadata": {
  "colab": {
   "authorship_tag": "ABX9TyPKtZoQ1hQKOKFa2g5z/woE",
   "provenance": []
  },
  "kernelspec": {
   "display_name": "Python 3 (ipykernel)",
   "language": "python",
   "name": "python3"
  },
  "language_info": {
   "codemirror_mode": {
    "name": "ipython",
    "version": 3
   },
   "file_extension": ".py",
   "mimetype": "text/x-python",
   "name": "python",
   "nbconvert_exporter": "python",
   "pygments_lexer": "ipython3",
   "version": "3.12.7"
  },
  "widgets": {
   "application/vnd.jupyter.widget-state+json": {
    "state": {},
    "version_major": 2,
    "version_minor": 0
   }
  }
 },
 "nbformat": 4,
 "nbformat_minor": 4
}
